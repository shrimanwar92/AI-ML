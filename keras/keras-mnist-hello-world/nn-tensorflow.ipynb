{
 "cells": [
  {
   "cell_type": "code",
   "execution_count": 3,
   "id": "778d44b8-f86a-4155-9936-c8f32ee8c46b",
   "metadata": {},
   "outputs": [],
   "source": [
    "import tensorflow as tf\n",
    "import keras"
   ]
  },
  {
   "cell_type": "code",
   "execution_count": 4,
   "id": "353d6db4-1e86-4be4-8e57-a44753745889",
   "metadata": {},
   "outputs": [],
   "source": [
    "class NaiveDense:\n",
    "    def __init__(self, input_size, output_size, activation):\n",
    "        self.activation = activation\n",
    "        \n",
    "        w_shape = (input_size, output_size)\n",
    "        w_initial_value = tf.random.uniform(w_shape, minval=0, maxval=1e-1)\n",
    "        self.W = tf.Variable(w_initial_value)\n",
    "\n",
    "        b_shape = (output_size,)\n",
    "        b_initial_value = tf.zeros(b_shape)\n",
    "        self.b = tf.Variable(b_initial_value)\n",
    "\n",
    "    def __call__(self, inputs):\n",
    "        return self.activation(tf.matmul(inputs, self.W) + self.b) #3) this gets called from NaiveSequential layer(x)\n",
    "\n",
    "\n",
    "    @property\n",
    "    def weights(self):\n",
    "        return (self.W, self.b)"
   ]
  },
  {
   "cell_type": "code",
   "execution_count": 5,
   "id": "4cf074d7-8cf1-4ce9-8597-895ab38346ca",
   "metadata": {},
   "outputs": [],
   "source": [
    "class NaiveSequential:\n",
    "    def __init__(self, layers):\n",
    "        self.layers = layers # contains instance of dense layers\n",
    "\n",
    "    def __call__(self, inputs):\n",
    "        x = inputs\n",
    "        for layer in self.layers:\n",
    "            x = layer(x) #2) calling a dense layer with all inputs, its a dense layer instance calls NaiveDense __call__ to add weithts to inputs and send to an activation fn\n",
    "        return x\n",
    "\n",
    "    @property\n",
    "    def weights(self):\n",
    "        weights = []\n",
    "        for layer in self.layers: # iterate over dense layer instances\n",
    "            weights += layer.weights # for each layer get its weights\n",
    "        return weights\n",
    "            "
   ]
  },
  {
   "cell_type": "code",
   "execution_count": 6,
   "id": "fa787642-ff7e-4835-8c7c-6254b1df44f4",
   "metadata": {},
   "outputs": [],
   "source": [
    "dense1 = NaiveDense(28*28, 512, tf.nn.relu) #initializes 1st hidden layer with initial weights and biases\n",
    "dense2 = NaiveDense(512, 10, tf.nn.softmax) #initializes 2nd hidden layer with initial weights and biases\n",
    "\n",
    "model = NaiveSequential([dense1, dense2])"
   ]
  },
  {
   "cell_type": "code",
   "execution_count": 7,
   "id": "6da0d4de-2894-4def-ab21-28b66a09d35f",
   "metadata": {
    "editable": true,
    "slideshow": {
     "slide_type": ""
    },
    "tags": []
   },
   "outputs": [],
   "source": [
    "import math\n",
    "\n",
    "class BatchGenerator:\n",
    "    def __init__(self, images, labels, batch_size=128):\n",
    "        assert len(images) == len(labels)\n",
    "        self.index = 0\n",
    "        self.images = images\n",
    "        self.labels = labels\n",
    "        self.batch_size = batch_size\n",
    "        self.num_batches = math.ceil(len(images)/batch_size)\n",
    "\n",
    "    def next(self):\n",
    "        images = self.images[self.index: self.index + self.batch_size]\n",
    "        labels = self.labels[self.index: self.index + self.batch_size]\n",
    "        self.index = self.index + self.batch_size\n",
    "        return images, labels"
   ]
  },
  {
   "cell_type": "code",
   "execution_count": 14,
   "id": "7d37bdee-9228-4d9c-8346-171032f8ae29",
   "metadata": {},
   "outputs": [],
   "source": [
    "def one_training_step(model, images_batch, labels_batch):\n",
    "    # run the fwd pass and compute model's predictions under gradient tape scope\n",
    "    with tf.GradientTape() as tape:\n",
    "        predictions = model(images_batch) #1) this calles the NaiveSequential instance __call__ method\n",
    "        per_sample_losses = tf.keras.losses.sparse_categorical_crossentropy(labels_batch, predictions)\n",
    "        average_loss = tf.reduce_mean(per_sample_losses)\n",
    "    # compute the gradient of the loss with regard to its weight. \n",
    "    # The output gradients is a list where each entry corresponds to a weight from model.weights list.\n",
    "    # 1-1 mapping between weight and its derivative\n",
    "    gradients = tape.gradient(average_loss, model.weights) #gets weights and biases\n",
    "\n",
    "    # update the weights using the gradient\n",
    "    update_weights(gradients, model.weights)\n",
    "\n",
    "    return average_loss"
   ]
  },
  {
   "cell_type": "code",
   "execution_count": 15,
   "id": "ed7a51d0-1455-4998-8623-15cc8d60246d",
   "metadata": {},
   "outputs": [],
   "source": [
    "LR = 1e-3\n",
    "from keras import optimizers\n",
    "\n",
    "optimizer = optimizers.SGD(LR)\n",
    "\n",
    "def update_weights(gradients, weights):\n",
    "    # for g, w in zip(gradients, weights):\n",
    "    #     w.assign_sub(g * LR) # we should never do this by hand (its equivalent of -= for TF variables)\n",
    "    optimizer.apply_gradients(zip(gradients, weights))\n",
    "    "
   ]
  },
  {
   "cell_type": "code",
   "execution_count": 16,
   "id": "ad551e2f-777e-4b7a-9243-bd933e2dc996",
   "metadata": {},
   "outputs": [],
   "source": [
    "def fit(model, images, labels, epochs, batch_size=128):\n",
    "    for epoch in range(epochs):\n",
    "        print(f\"Epoch: {epoch}\")\n",
    "        batch_generator = BatchGenerator(images, labels)\n",
    "        for batch in range(batch_generator.num_batches):\n",
    "            images_batch, labels_batch = batch_generator.next()\n",
    "            loss = one_training_step(model, images_batch, labels_batch)\n",
    "            if batch % 100 == 0:\n",
    "                print(f\"Loss at batch {batch} : {loss: .2f}\")"
   ]
  },
  {
   "cell_type": "code",
   "execution_count": 17,
   "id": "482ea1bc-df4b-478b-9709-6ae8679e8946",
   "metadata": {
    "editable": true,
    "slideshow": {
     "slide_type": ""
    },
    "tags": []
   },
   "outputs": [],
   "source": [
    "from keras.datasets import mnist\n",
    "\n",
    "(train_images, train_labels), (test_images, test_labels) = mnist.load_data()\n",
    "\n",
    "train_images = train_images.reshape((60000, 28*28))\n",
    "train_images = train_images.astype(\"float32\") / 255\n",
    "test_images = test_images.reshape((10000, 28*28))\n",
    "test_images = train_images.astype(\"float32\") / 255"
   ]
  },
  {
   "cell_type": "code",
   "execution_count": 18,
   "id": "7a0eb2d7-207d-43e5-9ccb-086a7878ac66",
   "metadata": {},
   "outputs": [
    {
     "name": "stdout",
     "output_type": "stream",
     "text": [
      "Epoch: 0\n",
      "Loss at batch 0 :  5.58\n",
      "Loss at batch 100 :  2.22\n",
      "Loss at batch 200 :  2.19\n",
      "Loss at batch 300 :  2.09\n",
      "Loss at batch 400 :  2.24\n",
      "Epoch: 1\n",
      "Loss at batch 0 :  1.90\n",
      "Loss at batch 100 :  1.86\n",
      "Loss at batch 200 :  1.81\n",
      "Loss at batch 300 :  1.71\n",
      "Loss at batch 400 :  1.85\n",
      "Epoch: 2\n",
      "Loss at batch 0 :  1.58\n",
      "Loss at batch 100 :  1.56\n",
      "Loss at batch 200 :  1.48\n",
      "Loss at batch 300 :  1.42\n",
      "Loss at batch 400 :  1.52\n",
      "Epoch: 3\n",
      "Loss at batch 0 :  1.32\n",
      "Loss at batch 100 :  1.33\n",
      "Loss at batch 200 :  1.22\n",
      "Loss at batch 300 :  1.20\n",
      "Loss at batch 400 :  1.27\n",
      "Epoch: 4\n",
      "Loss at batch 0 :  1.12\n",
      "Loss at batch 100 :  1.15\n",
      "Loss at batch 200 :  1.03\n",
      "Loss at batch 300 :  1.05\n",
      "Loss at batch 400 :  1.11\n"
     ]
    }
   ],
   "source": [
    "fit(model, train_images, train_labels, epochs=5, batch_size=128)"
   ]
  },
  {
   "cell_type": "code",
   "execution_count": null,
   "id": "884aa9c0-3ffe-40ec-83f7-ed926b57a70d",
   "metadata": {},
   "outputs": [],
   "source": []
  }
 ],
 "metadata": {
  "kernelspec": {
   "display_name": "Python 3 (ipykernel)",
   "language": "python",
   "name": "python3"
  },
  "language_info": {
   "codemirror_mode": {
    "name": "ipython",
    "version": 3
   },
   "file_extension": ".py",
   "mimetype": "text/x-python",
   "name": "python",
   "nbconvert_exporter": "python",
   "pygments_lexer": "ipython3",
   "version": "3.12.5"
  }
 },
 "nbformat": 4,
 "nbformat_minor": 5
}
