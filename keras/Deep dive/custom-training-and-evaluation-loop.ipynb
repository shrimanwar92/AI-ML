{
 "cells": [
  {
   "cell_type": "markdown",
   "id": "72fbb7d2-ba78-48c8-9a76-29a9a6399388",
   "metadata": {},
   "source": [
    "## Writing your own training and evaluation loops\n",
    "#### The fit() workflow strikes a nice balance between ease of use and flexibility. The built-in fit() workflow is solely focused on supervised learning: a setup where there are known targets (also called labels or annotations) associated with your input data, and where you compute your loss [as a function] between these targets and the model’s predictions.\n",
    "#### There are other setups where no explicit targets are present, such as generative learning, self-supervised learning (where targets are obtained from the inputs), and reinforcement learning (where learning is driven by occasional “rewards,” much like training a dog).\n",
    "#### Whenever you find yourself in a situation where the built-in fit() is not enough, you will need to write your own custom training logic.\n",
    "####  The pseudo-code typical training loop look like this:\n",
    "\n",
    "#####  1) Run the forward pass (compute the model’s output) inside a gradient tape to obtain a loss value for the current batch of data\n",
    "##### 2) Retrieve the gradients of the loss with regard to the model’s weights.\n",
    "##### 3) Update the model’s weights so as to lower the loss value on the current batch of data."
   ]
  },
  {
   "cell_type": "markdown",
   "id": "20f51694-8cec-41e5-b74b-1eca4cde3dbf",
   "metadata": {},
   "source": [
    "### Training versus inference\n",
    "       \n",
    "\n",
    "#### Training vs. Inference Behavior: \n",
    "    Some Keras layers, like Dropout and BatchNormalization, act differently during training and inference (when making predictions). They have a training argument in their call() method. Calling dropout(inputs,training=True) will drop some activation entries, while calling dropout(inputs,training=False) does nothing. Crucially, remember to set training=True when calling your model (Functional or Sequential) during the forward pass in your training loop. This ensures these layers behave correctly during training.\n",
    "#### Trainable vs. Non-Trainable Weights: Keras models and layers have two types of weights:\n",
    "    1) Trainable weights: These are the standard weights that are updated by backpropagation (e.g., kernel and bias in a Dense layer).\n",
    "    2) Non-trainable weights: These are updated during the forward pass by the layer itself. A built-in example is the BatchNormalization layer, which uses non-trainable weights to track the mean and standard deviation of the input data.\n",
    "#### Gradient Calculation: \n",
    "    When calculating gradients, use \n",
    "    tape.gradient(loss, model.trainable_weights) instead of \n",
    "    tape.gradient(loss, model.weights). \n",
    "    This ensures you only compute gradients for the weights that should be updated during training."
   ]
  },
  {
   "cell_type": "code",
   "execution_count": 21,
   "id": "d5c8eab0-2e17-4108-85a9-cc9b53d03fe0",
   "metadata": {},
   "outputs": [],
   "source": [
    "import keras\n",
    "from keras.datasets import mnist\n",
    "from keras import layers\n",
    "import numpy as np\n",
    "import matplotlib.pyplot as plt"
   ]
  },
  {
   "cell_type": "code",
   "execution_count": 22,
   "id": "11fa7bc7-c757-4357-926c-afc64b2b4db1",
   "metadata": {},
   "outputs": [],
   "source": [
    "def get_mnist_model():\n",
    "    inputs = keras.Input(shape=(28 * 28,))\n",
    "    features = layers.Dense(512, activation=\"relu\")(inputs)\n",
    "    features = layers.Dropout(0.5)(features)\n",
    "    outputs = layers.Dense(10, activation=\"softmax\")(features)\n",
    "    model = keras.Model(inputs=inputs, outputs=outputs)\n",
    "    return model"
   ]
  },
  {
   "cell_type": "code",
   "execution_count": 23,
   "id": "9d6cd80e-8722-4adf-b32b-d046ed316dc7",
   "metadata": {},
   "outputs": [
    {
     "data": {
      "image/png": "[encoded data removed]",
      "text/plain": [
       "<Figure size 640x480 with 2 Axes>"
      ]
     },
     "metadata": {},
     "output_type": "display_data"
    }
   ],
   "source": [
    "(images, labels), (test_images, test_labels) = mnist.load_data()\n",
    "\n",
    "plt.figure()\n",
    "plt.imshow(images[0])\n",
    "plt.colorbar()\n",
    "plt.grid(False)\n",
    "plt.show()\n",
    "\n",
    "images = images.reshape((60000, 28*28)).astype(\"float32\") / 255\n",
    "test_images = test_images.reshape((10000, 28*28)).astype(\"float32\") / 255\n",
    "\n",
    "train_images, val_images = images[10000:], images[:10000]\n",
    "train_labels, val_labels = labels[10000:], labels[:10000]"
   ]
  },
  {
   "cell_type": "code",
   "execution_count": 24,
   "id": "d1204766-b95f-4342-a85e-87a74633da80",
   "metadata": {},
   "outputs": [],
   "source": [
    "import tensorflow as tf\n",
    "import keras\n",
    "def training_step(inputs, targets):\n",
    "    with tf.GradientTape() as tape:\n",
    "        predictions = model(inputs, Training=True)\n",
    "        loss = loss_function(targets, predictions)\n",
    "        gradients = tape.gradients(loss, model.trainable_weights)\n",
    "        optimizer.apply_gradients(zip(model.trainable_weights, gradients))"
   ]
  },
  {
   "cell_type": "markdown",
   "id": "87f32974-3180-4075-8979-a02cdaf1d4f7",
   "metadata": {},
   "source": [
    "### Low-level usage of metrics\n",
    "#### In a low-level training loop, you will probably want to leverage Keras metrics. call `update_state(y_true, y_pred)` for each batch of targets and predictions, and then use `result()` to query the current metric value. Remember to use `metric.reset_state()` when you want to reset the current results (at the start of a training epoch or at the start of evaluation)"
   ]
  },
  {
   "cell_type": "code",
   "execution_count": 25,
   "id": "4f4415e1-c6e2-470e-8900-b3cd1fa1b428",
   "metadata": {},
   "outputs": [
    {
     "name": "stdout",
     "output_type": "stream",
     "text": [
      "result: 1.00\n"
     ]
    }
   ],
   "source": [
    "metric = keras.metrics.SparseCategoricalAccuracy()\n",
    "targets = [0, 1, 2]\n",
    "predictions = [[1, 0, 0], [0, 1, 0], [0, 0, 1]]\n",
    "metric.update_state(targets, predictions)\n",
    "current_result = metric.result()\n",
    "print(f\"result: {current_result:.2f}\")"
   ]
  },
  {
   "cell_type": "markdown",
   "id": "3e00e6f3-d86c-4c4d-bebd-41587d03ac6b",
   "metadata": {},
   "source": [
    "### A complete training and evaluation loop\n",
    "#### Writing a step-by-step training loop: the training step function"
   ]
  },
  {
   "cell_type": "code",
   "execution_count": 63,
   "id": "5a54d302-a5b9-411d-8337-4280b5a763b9",
   "metadata": {},
   "outputs": [
    {
     "name": "stdout",
     "output_type": "stream",
     "text": [
      "True\n"
     ]
    }
   ],
   "source": [
    "tf.compat.v1.enable_eager_execution()\n",
    "print(tf.executing_eagerly())\n",
    "\n",
    "model = get_mnist_model()\n",
    "\n",
    "loss_fn = keras.losses.SparseCategoricalCrossentropy() # prepare loss function\n",
    "optimizer = keras.optimizers.RMSprop()                 # prepare the optimizer\n",
    "metrics = [keras.metrics.SparseCategoricalAccuracy()]  # prepare the list of metrics to monitor\n",
    "loss_tracking_metric = keras.metrics.Mean()            # prepare a Mean metric tracker to keep track of the loss average\n",
    "\n",
    "def train_step(inputs, targets):\n",
    "    with tf.GradientTape() as tape:\n",
    "        # run the forward pass. Note that we pass training=True\n",
    "        predictions = model(inputs, training=True)\n",
    "        loss = loss_fn(targets, predictions)\n",
    "    \n",
    "    # run the backward pass Note that we use model.trainable_weights.\n",
    "    gradients = tape.gradient(loss, model.trainable_weights) # find the direction in the curve that minimizes the loss\n",
    "    optimizer.apply_gradients(zip(gradients, model.trainable_weights)) # move in the opposite direction of the gradients W = W - LR*gradient \n",
    "\n",
    "    # keep track of metrics\n",
    "    logs = {}\n",
    "    for metric in metrics:\n",
    "        metric.update_state(targets, predictions)\n",
    "        logs[metric.name] = metric.result()\n",
    "\n",
    "    # keep track of loss average\n",
    "    loss_tracking_metric.update_state(loss)\n",
    "    logs[\"loss\"] = loss_tracking_metric.result()\n",
    "    return logs\n",
    "        "
   ]
  },
  {
   "cell_type": "markdown",
   "id": "14f8901d-428e-4888-bc94-a6b60f779cd5",
   "metadata": {},
   "source": [
    "#### Writing a step-by-step training loop: resetting the metrics\n",
    "##### We will need to reset the state of our metrics at the start of each epoch and before running evaluation. Here’s a utility function to do it."
   ]
  },
  {
   "cell_type": "code",
   "execution_count": 27,
   "id": "d6689c77-91f2-4d66-93d1-205289a5dcf4",
   "metadata": {},
   "outputs": [],
   "source": [
    "def reset_metrics():\n",
    "    for metric in metrics:\n",
    "        metric.reset_state()\n",
    "    loss_tracking_metric.reset_state()"
   ]
  },
  {
   "cell_type": "markdown",
   "id": "6d19c4fe-2a25-49ed-982c-4fa69384eb71",
   "metadata": {},
   "source": [
    "#### Writing a step-by-step training loop: the loop itself"
   ]
  },
  {
   "cell_type": "code",
   "execution_count": 34,
   "id": "6a825282-627a-4c82-aea1-5fa6847cc421",
   "metadata": {},
   "outputs": [
    {
     "name": "stdout",
     "output_type": "stream",
     "text": [
      "Results at the end of epoch 0\n",
      "...sparse_categorical_accuracy: 0.9136\n",
      "...loss: 0.2924\n",
      "Results at the end of epoch 1\n",
      "...sparse_categorical_accuracy: 0.9526\n",
      "...loss: 0.1604\n",
      "Results at the end of epoch 2\n",
      "...sparse_categorical_accuracy: 0.9648\n",
      "...loss: 0.1298\n"
     ]
    }
   ],
   "source": [
    "# Using tf.data.Dataset object to turn our NumPy data into an iterator that iterates over the data in batches of size 32\n",
    "\n",
    "training_dataset = tf.data.Dataset.from_tensor_slices((train_images, train_labels))\n",
    "training_dataset = training_dataset.batch(32)\n",
    "epochs = 3\n",
    "\n",
    "for epoch in range(epochs):\n",
    "    reset_metrics()\n",
    "    for inputs_batch, targets_batch in training_dataset:\n",
    "        logs = train_step(inputs_batch, targets_batch)\n",
    "    print(f\"Results at the end of epoch {epoch}\")\n",
    "    for key, value in logs.items():\n",
    "        print(f\"...{key}: {value:.4f}\")"
   ]
  },
  {
   "cell_type": "markdown",
   "id": "8338d05b-74e8-4185-a831-ca7440f8b825",
   "metadata": {},
   "source": [
    "##### Evaluation loop: a simple for loop that repeatedly calls a test_step() function, which processes a single batch of data. The test_step() function is just a subset of the logic of train_step(). It omits the code that deals with updating the weights of the model—that is to say, everything involving the GradientTape and the optimizer.\n",
    "##### while you are debugging your code, prefer running it eagerly, without any @tf.function decorator. It’s easier to track bugs this way. Once your code is working and you want to make it fast, add a @tf.function decorator to your training step and your evaluation step—or any other performance-critical function. "
   ]
  },
  {
   "cell_type": "code",
   "execution_count": 39,
   "id": "28debf30-0071-4798-a26e-0dd742d0f4f6",
   "metadata": {},
   "outputs": [
    {
     "name": "stdout",
     "output_type": "stream",
     "text": [
      "Evaluation results:\n",
      "...val_sparse_categorical_accuracy: 0.9692\n",
      "...val_loss: 0.1198\n"
     ]
    }
   ],
   "source": [
    "@tf.function()\n",
    "def test_step(inputs, targets):\n",
    "    predictions = model(inputs, training=False)\n",
    "    loss = loss_fn(targets, predictions)\n",
    "\n",
    "    logs = {}\n",
    "    for metric in metrics:\n",
    "        metric.update_state(targets, predictions)\n",
    "        logs[\"val_\" + metric.name] = metric.result()\n",
    "\n",
    "    loss_tracking_metric.update_state(loss)\n",
    "    logs[\"val_loss\"] = loss_tracking_metric.result()\n",
    "    return logs\n",
    "\n",
    "val_dataset = tf.data.Dataset.from_tensor_slices((val_images, val_labels))\n",
    "val_dataset = val_dataset.batch(32)\n",
    "\n",
    "reset_metrics()\n",
    "\n",
    "for inputs_batch, targets_batch in val_dataset:\n",
    "    logs = test_step(inputs_batch, targets_batch)\n",
    "print(\"Evaluation results:\")\n",
    "for key, value in logs.items(): \n",
    "    print(f\"...{key}: {value:.4f}\")"
   ]
  },
  {
   "cell_type": "markdown",
   "id": "0337e16e-17a8-4855-bf4d-152f897c1bb7",
   "metadata": {},
   "source": [
    "### Leveraging fit() with a custom training loop\n",
    "#### Implementing a custom training step to use with fit()"
   ]
  },
  {
   "cell_type": "code",
   "execution_count": 53,
   "id": "d91e7e89-ab95-4594-addf-cb5585ea8db4",
   "metadata": {},
   "outputs": [
    {
     "name": "stdout",
     "output_type": "stream",
     "text": [
      "True\n"
     ]
    }
   ],
   "source": [
    "loss_fn = keras.losses.SparseCategoricalCrossentropy()\n",
    "#This metric object will be used to track the average of per-batch losses during training and evaluation.\n",
    "loss_tracker = keras.metrics.Mean(name=\"loss\")\n",
    "\n",
    "class CustomModel(keras.Model):\n",
    "    # We override the train_step method.\n",
    "    \n",
    "    def train_step(self, data):\n",
    "        inputs, targets = data\n",
    "        with tf.GradientTape() as tape:\n",
    "            # We use self(inputs, training=True) instead of model(inputs, training=True), \n",
    "            # since our model is the class itself.\n",
    "\n",
    "            predictions = self(inputs, training=True)\n",
    "            loss = loss_fn(targets, predictions)\n",
    "        gradients = tape.gradient(loss, self.trainable_weights)\n",
    "        optimizer.apply_gradients(zip(gradients, self.trainable_weights))\n",
    "\n",
    "        #  We update the loss tracker metric that tracks the average of the loss.\n",
    "        loss_tracker.update_state(loss)\n",
    "        \n",
    "        # We return the average loss so far by querying the loss tracker metric\n",
    "        return {\"loss\": loss_tracker.result()}\n",
    "\n",
    "    # Any metric you would like to reset across epochs should be listed here.\n",
    "    @property\n",
    "    def metrics(self):\n",
    "        return [loss_tracker]\n",
    "       \n"
   ]
  },
  {
   "cell_type": "markdown",
   "id": "d6dd72ac-febb-486b-bc33-99477d38a088",
   "metadata": {},
   "source": [
    "#####  We can now instantiate our custom model, compile it (we only pass the optimizer, since the loss is already defined outside of the model), and train it using fit() as usual"
   ]
  },
  {
   "cell_type": "code",
   "execution_count": 56,
   "id": "a023ef94-4759-4682-9c03-9e074f304840",
   "metadata": {},
   "outputs": [
    {
     "name": "stdout",
     "output_type": "stream",
     "text": [
      "Epoch 1/3\n",
      "\u001b[1m1563/1563\u001b[0m \u001b[32m━━━━━━━━━━━━━━━━━━━━\u001b[0m\u001b[37m\u001b[0m \u001b[1m4s\u001b[0m 2ms/step - loss: 0.4519\n",
      "Epoch 2/3\n",
      "\u001b[1m1563/1563\u001b[0m \u001b[32m━━━━━━━━━━━━━━━━━━━━\u001b[0m\u001b[37m\u001b[0m \u001b[1m4s\u001b[0m 2ms/step - loss: 0.1588\n",
      "Epoch 3/3\n",
      "\u001b[1m1563/1563\u001b[0m \u001b[32m━━━━━━━━━━━━━━━━━━━━\u001b[0m\u001b[37m\u001b[0m \u001b[1m4s\u001b[0m 2ms/step - loss: 0.1306\n"
     ]
    },
    {
     "data": {
      "text/plain": [
       "<keras.src.callbacks.history.History at 0x111c35cbd40>"
      ]
     },
     "execution_count": 56,
     "metadata": {},
     "output_type": "execute_result"
    }
   ],
   "source": [
    "inputs = keras.Input(shape=(28 * 28,))\n",
    "features = layers.Dense(512, activation=\"relu\")(inputs)\n",
    "features = layers.Dropout(0.5)(features)\n",
    "outputs = layers.Dense(10, activation=\"softmax\")(features)\n",
    "\n",
    "model = CustomModel(inputs, outputs)\n",
    "model.compile(optimizer=keras.optimizers.RMSprop())\n",
    "model.fit(train_images, train_labels, epochs=3)"
   ]
  },
  {
   "cell_type": "markdown",
   "id": "92399916-9e9e-4cef-ad0d-1b8ac39f1e0d",
   "metadata": {},
   "source": [
    "### Notes\n",
    "    1) This pattern does not prevent you from building models with the Functional API. You can do this whether you’re building Sequential models, Functional API models, or subclassed models.\n",
    "    2) You don’t need to use a @tf.function decorator when you override train_step—the framework does it for you.\n",
    "    3) After you’ve called compile(), you get access to the following:\n",
    "        a) self.compiled_loss—The loss function you passed to compile()\n",
    "        b) self.compiled_metrics—A wrapper for the list of metrics you passed, which allows you to call           self.compiled_metrics.update_state() to update all of your metrics at once.\n",
    "        c) self.metrics—The actual list of metrics you passed to compile(). Note that it also includes a metric that tracks the loss, similar to what we did manually with our loss_tracking_metric earlier"
   ]
  },
  {
   "cell_type": "code",
   "execution_count": 64,
   "id": "b1b6a035-a7df-4b0a-96cb-501e2cdb054a",
   "metadata": {},
   "outputs": [],
   "source": [
    "class CustomModel(keras.Model):\n",
    "     def train_step(self, data):\n",
    "        inputs, targets = data\n",
    "        with tf.GradientTape() as tape:\n",
    "            predictions = self(inputs, training=True)\n",
    "            loss = self.compiled_loss(targets, predictions)   \n",
    "        gradients = tape.gradient(loss, self.trainable_weights)\n",
    "        optimizer.apply_gradients(zip(gradients, model.trainable_weights))\n",
    "        self.compiled_metrics.update_state(targets, predictions)  \n",
    "        return {m.name: m.result() for m in self.metrics}"
   ]
  },
  {
   "cell_type": "code",
   "execution_count": 65,
   "id": "106ad96e-4b9f-4994-a565-6e278725ec55",
   "metadata": {},
   "outputs": [
    {
     "name": "stdout",
     "output_type": "stream",
     "text": [
      "Epoch 1/3\n"
     ]
    },
    {
     "name": "stderr",
     "output_type": "stream",
     "text": [
      "\\\\?\\C:\\Users\\shrim\\AppData\\Roaming\\jupyterlab-desktop\\jlab_server\\Lib\\site-packages\\keras\\src\\backend\\tensorflow\\trainer.py:640: UserWarning: `model.compiled_metrics()` is deprecated. Instead, use e.g.:\n",
      "```\n",
      "for metric in self.metrics:\n",
      "    metric.update_state(y, y_pred)\n",
      "```\n",
      "\n",
      "  return self._compiled_metrics_update_state(\n"
     ]
    },
    {
     "name": "stdout",
     "output_type": "stream",
     "text": [
      "\u001b[1m1563/1563\u001b[0m \u001b[32m━━━━━━━━━━━━━━━━━━━━\u001b[0m\u001b[37m\u001b[0m \u001b[1m4s\u001b[0m 2ms/step - sparse_categorical_accuracy: 0.8639 - loss: 0.1000\n",
      "Epoch 2/3\n",
      "\u001b[1m1563/1563\u001b[0m \u001b[32m━━━━━━━━━━━━━━━━━━━━\u001b[0m\u001b[37m\u001b[0m \u001b[1m4s\u001b[0m 2ms/step - sparse_categorical_accuracy: 0.9522 - loss: 0.1000\n",
      "Epoch 3/3\n",
      "\u001b[1m1563/1563\u001b[0m \u001b[32m━━━━━━━━━━━━━━━━━━━━\u001b[0m\u001b[37m\u001b[0m \u001b[1m4s\u001b[0m 2ms/step - sparse_categorical_accuracy: 0.9634 - loss: 0.1000\n"
     ]
    },
    {
     "data": {
      "text/plain": [
       "<keras.src.callbacks.history.History at 0x111bdc114f0>"
      ]
     },
     "execution_count": 65,
     "metadata": {},
     "output_type": "execute_result"
    }
   ],
   "source": [
    "inputs = keras.Input(shape=(28 * 28,))\n",
    "features = layers.Dense(512, activation=\"relu\")(inputs)\n",
    "features = layers.Dropout(0.5)(features)\n",
    "outputs = layers.Dense(10, activation=\"softmax\")(features)\n",
    "model = CustomModel(inputs, outputs)\n",
    "model.compile(optimizer=keras.optimizers.RMSprop(),\n",
    "      loss=keras.losses.SparseCategoricalCrossentropy(),\n",
    "      metrics=[keras.metrics.SparseCategoricalAccuracy()])\n",
    "model.fit(train_images, train_labels, epochs=3)"
   ]
  },
  {
   "cell_type": "code",
   "execution_count": null,
   "id": "9c3c18ab-6789-4dc8-8d51-370625c14d91",
   "metadata": {},
   "outputs": [],
   "source": []
  }
 ],
 "metadata": {
  "kernelspec": {
   "display_name": "Python 3 (ipykernel)",
   "language": "python",
   "name": "python3"
  },
  "language_info": {
   "codemirror_mode": {
    "name": "ipython",
    "version": 3
   },
   "file_extension": ".py",
   "mimetype": "text/x-python",
   "name": "python",
   "nbconvert_exporter": "python",
   "pygments_lexer": "ipython3",
   "version": "3.12.5"
  }
 },
 "nbformat": 4,
 "nbformat_minor": 5
}
