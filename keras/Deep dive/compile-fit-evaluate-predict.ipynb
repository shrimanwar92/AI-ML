{
 "cells": [
  {
   "cell_type": "code",
   "execution_count": 19,
   "id": "5e8b3d87-3c09-40f7-be8e-c10868bc290f",
   "metadata": {},
   "outputs": [],
   "source": [
    "import keras\n",
    "from keras.datasets import mnist\n",
    "from keras import layers\n",
    "import numpy as np\n",
    "import matplotlib.pyplot as plt"
   ]
  },
  {
   "cell_type": "code",
   "execution_count": 22,
   "id": "fd4ff50c-0ff1-41b4-b49e-3f6d8ab34bb6",
   "metadata": {},
   "outputs": [],
   "source": [
    "def get_mnist_model():\n",
    "    inputs = keras.Input(shape=(28 * 28,))\n",
    "    features = layers.Dense(512, activation=\"relu\")(inputs)\n",
    "    features = layers.Dropout(0.5)(features)\n",
    "    outputs = layers.Dense(10, activation=\"softmax\")(features)\n",
    "    model = keras.Model(inputs=inputs, outputs=outputs)\n",
    "    return model"
   ]
  },
  {
   "cell_type": "markdown",
   "id": "86c37951-7bd7-4aa0-afe8-10475d610297",
   "metadata": {},
   "source": [
    "#### Load your data, reserving some for validation. The data must be preprocessed before training the network. If you inspect the first image in the training set, you will see that the pixel values fall in the range of 0 to 255:"
   ]
  },
  {
   "cell_type": "code",
   "execution_count": 25,
   "id": "99ce6a1a-8181-423b-b13f-0f301dba12e6",
   "metadata": {},
   "outputs": [
    {
     "data": {
      "image/png": "[encoded data removed]",
      "text/plain": [
       "<Figure size 640x480 with 2 Axes>"
      ]
     },
     "metadata": {},
     "output_type": "display_data"
    }
   ],
   "source": [
    "(images, labels), (test_images, test_labels) = mnist.load_data()\n",
    "\n",
    "plt.figure()\n",
    "plt.imshow(images[0])\n",
    "plt.colorbar()\n",
    "plt.grid(False)\n",
    "plt.show()\n"
   ]
  },
  {
   "cell_type": "code",
   "execution_count": 26,
   "id": "9883f2c5-7d6c-4193-90ed-be0a14919dd9",
   "metadata": {},
   "outputs": [],
   "source": [
    "images = images.reshape((60000, 28*28)).astype(\"float32\") / 255\n",
    "test_images = test_images.reshape((10000, 28*28)).astype(\"float32\") / 255\n",
    "\n",
    "train_images, val_images = images[10000:], images[:10000]\n",
    "train_labels, val_labels = labels[10000:], labels[:10000]"
   ]
  },
  {
   "cell_type": "markdown",
   "id": "d348b903-b086-42cf-adc3-1f01f339bc98",
   "metadata": {},
   "source": [
    "#### Compile the model by specifying its optimizer, the loss function to minimize, and the metrics to monitor"
   ]
  },
  {
   "cell_type": "code",
   "execution_count": 27,
   "id": "08b29371-b94a-48c6-9cf8-24e2d22b6405",
   "metadata": {},
   "outputs": [],
   "source": [
    "model = get_mnist_model()\n",
    "\n",
    "model.compile(optimizer=\"rmsprop\",\n",
    "             loss=\"sparse_categorical_crossentropy\",\n",
    "             metrics=[\"accuracy\"])"
   ]
  },
  {
   "cell_type": "markdown",
   "id": "dbdcb336-b84d-49a9-9da2-ac64e4f5e243",
   "metadata": {},
   "source": [
    "#### Use fit() to train the model, optionally providing validation data to monitor performance on unseen data."
   ]
  },
  {
   "cell_type": "code",
   "execution_count": 28,
   "id": "5807bbf5-75cc-4b87-9fd2-175a7d5d81f4",
   "metadata": {},
   "outputs": [
    {
     "name": "stdout",
     "output_type": "stream",
     "text": [
      "Epoch 1/3\n",
      "\u001b[1m1563/1563\u001b[0m \u001b[32m━━━━━━━━━━━━━━━━━━━━\u001b[0m\u001b[37m\u001b[0m \u001b[1m4s\u001b[0m 3ms/step - accuracy: 0.8617 - loss: 0.4542 - val_accuracy: 0.9592 - val_loss: 0.1402\n",
      "Epoch 2/3\n",
      "\u001b[1m1563/1563\u001b[0m \u001b[32m━━━━━━━━━━━━━━━━━━━━\u001b[0m\u001b[37m\u001b[0m \u001b[1m4s\u001b[0m 3ms/step - accuracy: 0.9521 - loss: 0.1638 - val_accuracy: 0.9701 - val_loss: 0.1125\n",
      "Epoch 3/3\n",
      "\u001b[1m1563/1563\u001b[0m \u001b[32m━━━━━━━━━━━━━━━━━━━━\u001b[0m\u001b[37m\u001b[0m \u001b[1m4s\u001b[0m 3ms/step - accuracy: 0.9639 - loss: 0.1295 - val_accuracy: 0.9711 - val_loss: 0.1090\n"
     ]
    },
    {
     "data": {
      "text/plain": [
       "<keras.src.callbacks.history.History at 0x1a81ddb2480>"
      ]
     },
     "execution_count": 28,
     "metadata": {},
     "output_type": "execute_result"
    }
   ],
   "source": [
    "model.fit(\n",
    "    train_images,\n",
    "    train_labels,\n",
    "    epochs=3,\n",
    "    validation_data=(val_images, val_labels)\n",
    ")"
   ]
  },
  {
   "cell_type": "markdown",
   "id": "c7fadffb-e934-4019-af8f-455e27ff1c55",
   "metadata": {},
   "source": [
    "#### Use evaluate() to compute the loss and metrics on new data."
   ]
  },
  {
   "cell_type": "code",
   "execution_count": 29,
   "id": "347849e9-2482-4180-a47e-a61709d2a728",
   "metadata": {},
   "outputs": [
    {
     "name": "stdout",
     "output_type": "stream",
     "text": [
      "\u001b[1m313/313\u001b[0m \u001b[32m━━━━━━━━━━━━━━━━━━━━\u001b[0m\u001b[37m\u001b[0m \u001b[1m0s\u001b[0m 1ms/step - accuracy: 0.9704 - loss: 0.1142\n"
     ]
    },
    {
     "data": {
      "text/plain": [
       "[0.09977845102548599, 0.9726999998092651]"
      ]
     },
     "execution_count": 29,
     "metadata": {},
     "output_type": "execute_result"
    }
   ],
   "source": [
    "test_metrics = model.evaluate(test_images, test_labels)\n",
    "test_metrics"
   ]
  },
  {
   "cell_type": "markdown",
   "id": "1c299c8d-623d-4a23-9927-68248a4856a6",
   "metadata": {},
   "source": [
    "#### Use predict() to computeclassification probabilities on new data."
   ]
  },
  {
   "cell_type": "code",
   "execution_count": 30,
   "id": "beec0d03-db09-4087-8b1e-aca6b85f2b57",
   "metadata": {},
   "outputs": [
    {
     "name": "stdout",
     "output_type": "stream",
     "text": [
      "\u001b[1m313/313\u001b[0m \u001b[32m━━━━━━━━━━━━━━━━━━━━\u001b[0m\u001b[37m\u001b[0m \u001b[1m0s\u001b[0m 844us/step\n"
     ]
    },
    {
     "data": {
      "text/plain": [
       "array([2.9181668e-10, 2.8587972e-12, 1.6164179e-08, 4.0210315e-07,\n",
       "       4.2786534e-14, 1.2628255e-09, 9.3736171e-16, 9.9999964e-01,\n",
       "       7.1408994e-12, 1.5673137e-08], dtype=float32)"
      ]
     },
     "execution_count": 30,
     "metadata": {},
     "output_type": "execute_result"
    }
   ],
   "source": [
    "predictions = model.predict(test_images)\n",
    "predictions[0]"
   ]
  },
  {
   "cell_type": "markdown",
   "id": "d8591bdd-8a5e-451b-b7ac-3aba28b67cdd",
   "metadata": {},
   "source": [
    "#### Verify predictions"
   ]
  },
  {
   "cell_type": "code",
   "execution_count": 35,
   "id": "45f37579-3f2c-4419-845b-0e44fe67e7b9",
   "metadata": {},
   "outputs": [
    {
     "data": {
      "text/plain": [
       "np.int64(7)"
      ]
     },
     "execution_count": 35,
     "metadata": {},
     "output_type": "execute_result"
    }
   ],
   "source": [
    "np.argmax(predictions[0])"
   ]
  },
  {
   "cell_type": "code",
   "execution_count": 36,
   "id": "92e58781-d664-4792-9601-5772df0e2259",
   "metadata": {},
   "outputs": [
    {
     "data": {
      "text/plain": [
       "np.uint8(7)"
      ]
     },
     "execution_count": 36,
     "metadata": {},
     "output_type": "execute_result"
    }
   ],
   "source": [
    "test_labels[0]"
   ]
  }
 ],
 "metadata": {
  "kernelspec": {
   "display_name": "Python 3 (ipykernel)",
   "language": "python",
   "name": "python3"
  },
  "language_info": {
   "codemirror_mode": {
    "name": "ipython",
    "version": 3
   },
   "file_extension": ".py",
   "mimetype": "text/x-python",
   "name": "python",
   "nbconvert_exporter": "python",
   "pygments_lexer": "ipython3",
   "version": "3.12.5"
  }
 },
 "nbformat": 4,
 "nbformat_minor": 5
}
