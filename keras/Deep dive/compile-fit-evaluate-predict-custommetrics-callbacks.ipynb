{
 "cells": [
  {
   "cell_type": "code",
   "execution_count": 24,
   "id": "5e8b3d87-3c09-40f7-be8e-c10868bc290f",
   "metadata": {},
   "outputs": [],
   "source": [
    "import keras\n",
    "from keras.datasets import mnist\n",
    "from keras import layers\n",
    "import numpy as np\n",
    "import matplotlib.pyplot as plt"
   ]
  },
  {
   "cell_type": "code",
   "execution_count": 25,
   "id": "fd4ff50c-0ff1-41b4-b49e-3f6d8ab34bb6",
   "metadata": {},
   "outputs": [],
   "source": [
    "def get_mnist_model():\n",
    "    inputs = keras.Input(shape=(28 * 28,))\n",
    "    features = layers.Dense(512, activation=\"relu\")(inputs)\n",
    "    features = layers.Dropout(0.5)(features)\n",
    "    outputs = layers.Dense(10, activation=\"softmax\")(features)\n",
    "    model = keras.Model(inputs=inputs, outputs=outputs)\n",
    "    return model"
   ]
  },
  {
   "cell_type": "markdown",
   "id": "86c37951-7bd7-4aa0-afe8-10475d610297",
   "metadata": {},
   "source": [
    "#### Load your data, reserving some for validation. The data must be preprocessed before training the network. If you inspect the first image in the training set, you will see that the pixel values fall in the range of 0 to 255:"
   ]
  },
  {
   "cell_type": "code",
   "execution_count": 26,
   "id": "99ce6a1a-8181-423b-b13f-0f301dba12e6",
   "metadata": {},
   "outputs": [
    {
     "data": {
      "image/png": "[encoded data removed]",
      "text/plain": [
       "<Figure size 640x480 with 2 Axes>"
      ]
     },
     "metadata": {},
     "output_type": "display_data"
    }
   ],
   "source": [
    "(images, labels), (test_images, test_labels) = mnist.load_data()\n",
    "\n",
    "plt.figure()\n",
    "plt.imshow(images[0])\n",
    "plt.colorbar()\n",
    "plt.grid(False)\n",
    "plt.show()\n"
   ]
  },
  {
   "cell_type": "code",
   "execution_count": 27,
   "id": "9883f2c5-7d6c-4193-90ed-be0a14919dd9",
   "metadata": {},
   "outputs": [],
   "source": [
    "images = images.reshape((60000, 28*28)).astype(\"float32\") / 255\n",
    "test_images = test_images.reshape((10000, 28*28)).astype(\"float32\") / 255\n",
    "\n",
    "train_images, val_images = images[10000:], images[:10000]\n",
    "train_labels, val_labels = labels[10000:], labels[:10000]"
   ]
  },
  {
   "cell_type": "markdown",
   "id": "d348b903-b086-42cf-adc3-1f01f339bc98",
   "metadata": {},
   "source": [
    "#### Compile the model by specifying its optimizer, the loss function to minimize, and the metrics to monitor"
   ]
  },
  {
   "cell_type": "code",
   "execution_count": 28,
   "id": "08b29371-b94a-48c6-9cf8-24e2d22b6405",
   "metadata": {},
   "outputs": [],
   "source": [
    "model = get_mnist_model()\n",
    "\n",
    "model.compile(optimizer=\"rmsprop\",\n",
    "             loss=\"sparse_categorical_crossentropy\",\n",
    "             metrics=[\"accuracy\"])"
   ]
  },
  {
   "cell_type": "markdown",
   "id": "dbdcb336-b84d-49a9-9da2-ac64e4f5e243",
   "metadata": {},
   "source": [
    "#### Use fit() to train the model, optionally providing validation data to monitor performance on unseen data."
   ]
  },
  {
   "cell_type": "code",
   "execution_count": 29,
   "id": "5807bbf5-75cc-4b87-9fd2-175a7d5d81f4",
   "metadata": {},
   "outputs": [
    {
     "name": "stdout",
     "output_type": "stream",
     "text": [
      "Epoch 1/3\n",
      "\u001b[1m1563/1563\u001b[0m \u001b[32m━━━━━━━━━━━━━━━━━━━━\u001b[0m\u001b[37m\u001b[0m \u001b[1m5s\u001b[0m 3ms/step - accuracy: 0.8653 - loss: 0.4481 - val_accuracy: 0.9571 - val_loss: 0.1455\n",
      "Epoch 2/3\n",
      "\u001b[1m1563/1563\u001b[0m \u001b[32m━━━━━━━━━━━━━━━━━━━━\u001b[0m\u001b[37m\u001b[0m \u001b[1m4s\u001b[0m 3ms/step - accuracy: 0.9512 - loss: 0.1714 - val_accuracy: 0.9680 - val_loss: 0.1170\n",
      "Epoch 3/3\n",
      "\u001b[1m1563/1563\u001b[0m \u001b[32m━━━━━━━━━━━━━━━━━━━━\u001b[0m\u001b[37m\u001b[0m \u001b[1m4s\u001b[0m 3ms/step - accuracy: 0.9613 - loss: 0.1327 - val_accuracy: 0.9700 - val_loss: 0.1073\n"
     ]
    },
    {
     "data": {
      "text/plain": [
       "<keras.src.callbacks.history.History at 0x1fc3a11da00>"
      ]
     },
     "execution_count": 29,
     "metadata": {},
     "output_type": "execute_result"
    }
   ],
   "source": [
    "model.fit(\n",
    "    train_images,\n",
    "    train_labels,\n",
    "    epochs=3,\n",
    "    validation_data=(val_images, val_labels)\n",
    ")"
   ]
  },
  {
   "cell_type": "markdown",
   "id": "c7fadffb-e934-4019-af8f-455e27ff1c55",
   "metadata": {},
   "source": [
    "#### Use evaluate() to compute the loss and metrics on new data."
   ]
  },
  {
   "cell_type": "code",
   "execution_count": 30,
   "id": "347849e9-2482-4180-a47e-a61709d2a728",
   "metadata": {},
   "outputs": [
    {
     "name": "stdout",
     "output_type": "stream",
     "text": [
      "\u001b[1m313/313\u001b[0m \u001b[32m━━━━━━━━━━━━━━━━━━━━\u001b[0m\u001b[37m\u001b[0m \u001b[1m0s\u001b[0m 1ms/step - accuracy: 0.9629 - loss: 0.1241\n"
     ]
    },
    {
     "data": {
      "text/plain": [
       "[0.10455427318811417, 0.9688000082969666]"
      ]
     },
     "execution_count": 30,
     "metadata": {},
     "output_type": "execute_result"
    }
   ],
   "source": [
    "test_metrics = model.evaluate(test_images, test_labels)\n",
    "test_metrics"
   ]
  },
  {
   "cell_type": "markdown",
   "id": "1c299c8d-623d-4a23-9927-68248a4856a6",
   "metadata": {},
   "source": [
    "#### Use predict() to computeclassification probabilities on new data."
   ]
  },
  {
   "cell_type": "code",
   "execution_count": 31,
   "id": "beec0d03-db09-4087-8b1e-aca6b85f2b57",
   "metadata": {},
   "outputs": [
    {
     "name": "stdout",
     "output_type": "stream",
     "text": [
      "\u001b[1m313/313\u001b[0m \u001b[32m━━━━━━━━━━━━━━━━━━━━\u001b[0m\u001b[37m\u001b[0m \u001b[1m0s\u001b[0m 919us/step\n"
     ]
    },
    {
     "data": {
      "text/plain": [
       "array([4.0200018e-10, 3.6041079e-12, 3.9076440e-08, 1.2207265e-06,\n",
       "       1.9072122e-14, 1.3010059e-09, 2.8637991e-16, 9.9999869e-01,\n",
       "       5.3412071e-12, 9.1768740e-08], dtype=float32)"
      ]
     },
     "execution_count": 31,
     "metadata": {},
     "output_type": "execute_result"
    }
   ],
   "source": [
    "predictions = model.predict(test_images)\n",
    "predictions[0]"
   ]
  },
  {
   "cell_type": "markdown",
   "id": "d8591bdd-8a5e-451b-b7ac-3aba28b67cdd",
   "metadata": {},
   "source": [
    "#### Verify predictions"
   ]
  },
  {
   "cell_type": "code",
   "execution_count": 32,
   "id": "45f37579-3f2c-4419-845b-0e44fe67e7b9",
   "metadata": {},
   "outputs": [
    {
     "data": {
      "text/plain": [
       "np.int64(7)"
      ]
     },
     "execution_count": 32,
     "metadata": {},
     "output_type": "execute_result"
    }
   ],
   "source": [
    "np.argmax(predictions[0])"
   ]
  },
  {
   "cell_type": "code",
   "execution_count": 33,
   "id": "92e58781-d664-4792-9601-5772df0e2259",
   "metadata": {},
   "outputs": [
    {
     "data": {
      "text/plain": [
       "np.uint8(7)"
      ]
     },
     "execution_count": 33,
     "metadata": {},
     "output_type": "execute_result"
    }
   ],
   "source": [
    "test_labels[0]"
   ]
  },
  {
   "cell_type": "markdown",
   "id": "081fcf87-46c7-4251-ae70-3191c14f6ff8",
   "metadata": {},
   "source": [
    "## Writing your own metrics\n",
    "\n",
    "#### Metrics are key to measuring the performance of your model—in particular, to measuring the difference between its performance on the training data and its performance on the test data."
   ]
  },
  {
   "cell_type": "code",
   "execution_count": 34,
   "id": "f6c06786-fc31-48df-9bb5-2ea08f88690b",
   "metadata": {},
   "outputs": [],
   "source": [
    "import tensorflow as tf\n",
    "\n",
    "class RootMeanSquaredError(keras.metrics.Metric):\n",
    "    def __init__(self, name=\"rmse\", **kwargs):\n",
    "        # Define the state variables in the constructor. Like for layers, you have access to the add_weight() method\n",
    "        super().__init__(name=name, **kwargs)                                \n",
    "        self.mse_sum = self.add_weight(name=\"mse_sum\", initializer=\"zeros\")  \n",
    "        self.total_samples = self.add_weight(name=\"total_samples\", initializer=\"zeros\", dtype=\"int32\")\n",
    "\n",
    "    # Implement the state update logic in update_state(). The y_true argument is the targets (or labels) for one batch, while y_pred represents the\n",
    "    # corresponding predictions from the model. You can ignore the sample_weight argument—we won’t use it here.\n",
    "    def update_state(self, y_true, y_pred, sample_weight=None):  \n",
    "        # To match our MNIST model, we expect categorical predictions and integer labels.\n",
    "        y_true = tf.one_hot(y_true, depth=tf.shape(y_pred)[1])   \n",
    "        mse = tf.reduce_sum(tf.square(y_true - y_pred))\n",
    "        self.mse_sum.assign_add(mse)\n",
    "        num_samples = tf.shape(y_pred)[0]\n",
    "        self.total_samples.assign_add(num_samples)\n",
    "\n",
    "    def result(self):\n",
    "        return tf.sqrt(self.mse_sum / tf.cast(self.total_samples, tf.float32))\n",
    "\n",
    "    def reset_state(self):\n",
    "        self.mse_sum.assign(0.)\n",
    "        self.total_samples.assign(0)"
   ]
  },
  {
   "cell_type": "code",
   "execution_count": 35,
   "id": "f5c79cbc-13f4-40e8-bf59-55b131931e15",
   "metadata": {},
   "outputs": [
    {
     "name": "stdout",
     "output_type": "stream",
     "text": [
      "Epoch 1/3\n",
      "\u001b[1m1563/1563\u001b[0m \u001b[32m━━━━━━━━━━━━━━━━━━━━\u001b[0m\u001b[37m\u001b[0m \u001b[1m5s\u001b[0m 3ms/step - accuracy: 0.8635 - loss: 0.4501 - rmse: 0.4387 - val_accuracy: 0.9575 - val_loss: 0.1459 - val_rmse: 0.2536\n",
      "Epoch 2/3\n",
      "\u001b[1m1563/1563\u001b[0m \u001b[32m━━━━━━━━━━━━━━━━━━━━\u001b[0m\u001b[37m\u001b[0m \u001b[1m4s\u001b[0m 3ms/step - accuracy: 0.9506 - loss: 0.1691 - rmse: 0.2747 - val_accuracy: 0.9683 - val_loss: 0.1124 - val_rmse: 0.2215\n",
      "Epoch 3/3\n",
      "\u001b[1m1563/1563\u001b[0m \u001b[32m━━━━━━━━━━━━━━━━━━━━\u001b[0m\u001b[37m\u001b[0m \u001b[1m5s\u001b[0m 3ms/step - accuracy: 0.9628 - loss: 0.1318 - rmse: 0.2406 - val_accuracy: 0.9710 - val_loss: 0.1105 - val_rmse: 0.2129\n",
      "\u001b[1m313/313\u001b[0m \u001b[32m━━━━━━━━━━━━━━━━━━━━\u001b[0m\u001b[37m\u001b[0m \u001b[1m0s\u001b[0m 1ms/step - accuracy: 0.9685 - loss: 0.1230 - rmse: 0.2206\n"
     ]
    }
   ],
   "source": [
    "model = get_mnist_model()\n",
    "\n",
    "model.compile(optimizer=\"rmsprop\",\n",
    "      loss=\"sparse_categorical_crossentropy\",\n",
    "      metrics=[\"accuracy\", RootMeanSquaredError()])\n",
    "\n",
    "model.fit(train_images, train_labels,\n",
    "  epochs=3,\n",
    "  validation_data=(val_images, val_labels))\n",
    "\n",
    "test_metrics = model.evaluate(test_images, test_labels)"
   ]
  },
  {
   "cell_type": "markdown",
   "id": "36ff4362-ee59-45f6-a74c-d5b7bca2803a",
   "metadata": {},
   "source": [
    "## Using callbacks\n",
    "#### A callback is an object (a class instance implementing specific methods) that is passed to the model in the call to fit() and that is called by the model at various points during training. It has access to all the available data about the state of the model and its performance, and it can take action: interrupt training, save a model, load a different weight set, or otherwise alter the state of the model.\n",
    "\n",
    "<ul>\n",
    "    <li>Model checkpointing—Saving the current state of the model at different points during training.</li>\n",
    "    <li>Early stopping—Interrupting training when the validation loss is no longer improving (and of course, saving the best model obtained during training)</li>\n",
    "    <li>Dynamically adjusting the value of certain parameters during training—Such as the learning rate of the optimizer.</li>\n",
    "    <li>Logging training and validation metrics during training, or visualizing the representations learned by the model as they’re updated</li>\n",
    "</ul>"
   ]
  },
  {
   "cell_type": "markdown",
   "id": "90d3c8a6-3c3d-41c8-9ff1-a04bdb989d13",
   "metadata": {},
   "source": [
    "#### The keras.callbacks module includes a number of built-in callbacks:\n",
    "<ul>\n",
    "    <li>keras.callbacks.ModelCheckpoint</li>\n",
    "    <li>keras.callbacks.EarlyStopping</li>\n",
    "    <li>keras.callbacks.LearningRateScheduler</li>\n",
    "    <li>keras.callbacks.ReduceLROnPlateau</li>\n",
    "    <li>keras.callbacks.CSVLogger</li>\n",
    "</ul>"
   ]
  },
  {
   "cell_type": "markdown",
   "id": "13f9f0be-b146-45a3-88eb-b053b43950e6",
   "metadata": {},
   "source": [
    "#### THE EARLYSTOPPING AND MODELCHECKPOINT CALLBACKS\n",
    "##### The EarlyStopping callback interrupts training once a target metric being monitored has stopped improving for a fixed number of epochs. For instance, this callback allows you to interrupt training as soon as you start overfitting, thus avoiding having to retrain your model for a smaller number of epochs. This callback is typically used in combination with ModelCheckpoint, which lets you continually save the model during training. \n"
   ]
  },
  {
   "cell_type": "code",
   "execution_count": 36,
   "id": "32f3a97d-1578-4a52-a856-e3ac4de68578",
   "metadata": {},
   "outputs": [
    {
     "name": "stdout",
     "output_type": "stream",
     "text": [
      "Epoch 1/10\n",
      "\u001b[1m1563/1563\u001b[0m \u001b[32m━━━━━━━━━━━━━━━━━━━━\u001b[0m\u001b[37m\u001b[0m \u001b[1m5s\u001b[0m 3ms/step - accuracy: 0.8644 - loss: 0.4492 - val_accuracy: 0.9571 - val_loss: 0.1495\n",
      "Epoch 2/10\n",
      "\u001b[1m1563/1563\u001b[0m \u001b[32m━━━━━━━━━━━━━━━━━━━━\u001b[0m\u001b[37m\u001b[0m \u001b[1m4s\u001b[0m 3ms/step - accuracy: 0.9520 - loss: 0.1652 - val_accuracy: 0.9684 - val_loss: 0.1154\n",
      "Epoch 3/10\n",
      "\u001b[1m1563/1563\u001b[0m \u001b[32m━━━━━━━━━━━━━━━━━━━━\u001b[0m\u001b[37m\u001b[0m \u001b[1m4s\u001b[0m 3ms/step - accuracy: 0.9623 - loss: 0.1255 - val_accuracy: 0.9736 - val_loss: 0.1015\n",
      "Epoch 4/10\n",
      "\u001b[1m1563/1563\u001b[0m \u001b[32m━━━━━━━━━━━━━━━━━━━━\u001b[0m\u001b[37m\u001b[0m \u001b[1m4s\u001b[0m 3ms/step - accuracy: 0.9698 - loss: 0.1104 - val_accuracy: 0.9756 - val_loss: 0.0961\n",
      "Epoch 5/10\n",
      "\u001b[1m1563/1563\u001b[0m \u001b[32m━━━━━━━━━━━━━━━━━━━━\u001b[0m\u001b[37m\u001b[0m \u001b[1m4s\u001b[0m 3ms/step - accuracy: 0.9710 - loss: 0.1001 - val_accuracy: 0.9773 - val_loss: 0.0918\n",
      "Epoch 6/10\n",
      "\u001b[1m1563/1563\u001b[0m \u001b[32m━━━━━━━━━━━━━━━━━━━━\u001b[0m\u001b[37m\u001b[0m \u001b[1m4s\u001b[0m 3ms/step - accuracy: 0.9734 - loss: 0.0921 - val_accuracy: 0.9765 - val_loss: 0.0970\n",
      "Epoch 7/10\n",
      "\u001b[1m1563/1563\u001b[0m \u001b[32m━━━━━━━━━━━━━━━━━━━━\u001b[0m\u001b[37m\u001b[0m \u001b[1m4s\u001b[0m 3ms/step - accuracy: 0.9765 - loss: 0.0848 - val_accuracy: 0.9777 - val_loss: 0.0937\n",
      "Epoch 8/10\n",
      "\u001b[1m1563/1563\u001b[0m \u001b[32m━━━━━━━━━━━━━━━━━━━━\u001b[0m\u001b[37m\u001b[0m \u001b[1m4s\u001b[0m 3ms/step - accuracy: 0.9788 - loss: 0.0803 - val_accuracy: 0.9804 - val_loss: 0.0891\n",
      "Epoch 9/10\n",
      "\u001b[1m1563/1563\u001b[0m \u001b[32m━━━━━━━━━━━━━━━━━━━━\u001b[0m\u001b[37m\u001b[0m \u001b[1m5s\u001b[0m 3ms/step - accuracy: 0.9793 - loss: 0.0742 - val_accuracy: 0.9783 - val_loss: 0.0997\n",
      "Epoch 10/10\n",
      "\u001b[1m1563/1563\u001b[0m \u001b[32m━━━━━━━━━━━━━━━━━━━━\u001b[0m\u001b[37m\u001b[0m \u001b[1m5s\u001b[0m 3ms/step - accuracy: 0.9813 - loss: 0.0722 - val_accuracy: 0.9794 - val_loss: 0.0945\n"
     ]
    },
    {
     "data": {
      "text/plain": [
       "<keras.src.callbacks.history.History at 0x1fc3f14f8c0>"
      ]
     },
     "execution_count": 36,
     "metadata": {},
     "output_type": "execute_result"
    }
   ],
   "source": [
    "# Callbacks are passed to the model via the callbacks argument in fit(), which takes a list of callbacks. You can pass any number of callbacks\n",
    "\n",
    "callbacks_list = [     \n",
    "    keras.callbacks.EarlyStopping(    # Interrupts training when improvement stops\n",
    "        monitor=\"val_accuracy\",       # Monitors the model’s validation accuracy         \n",
    "        patience=2,                   # Interrupts training when accuracy has stopped improving for 2 epochs\n",
    "    ),\n",
    "    keras.callbacks.ModelCheckpoint(    # Saves the current weights after every epoch\n",
    "        filepath=\"checkpoint_path.keras\",    \n",
    "        # These two arguments mean you won’t overwrite the model file unless val_loss has improved, \n",
    "        # which allows you to keep the best model seen during training.\n",
    "        monitor=\"val_loss\",                \n",
    "        save_best_only=True,              \n",
    "    )\n",
    "]\n",
    "\n",
    "model = get_mnist_model()\n",
    "\n",
    "model.compile(optimizer=\"rmsprop\",\n",
    "      loss=\"sparse_categorical_crossentropy\",\n",
    "      metrics=[\"accuracy\"])\n",
    "\n",
    "model.fit(\n",
    "    train_images, \n",
    "    train_labels,                \n",
    "    epochs=10,                                 \n",
    "    callbacks=callbacks_list,                  \n",
    "    validation_data=(val_images, val_labels)\n",
    ")"
   ]
  },
  {
   "cell_type": "markdown",
   "id": "4d8d2560-81af-4834-a9a6-cddd0431d190",
   "metadata": {},
   "source": [
    "#### you can always save models manually after training as well—just call model.save('my_checkpoint_path').\n",
    "#### To reload the model you’ve saved, just use\n",
    "#### model = keras.models.load_model(\"checkpoint_path.keras\")"
   ]
  },
  {
   "cell_type": "markdown",
   "id": "447abf86-0af8-4b1e-bfc1-590dda3540bf",
   "metadata": {},
   "source": [
    "## Writing your own callbacks\n",
    "<ul>\n",
    "    <li>on_epoch_begin(epoch, logs): Called at the START of every EPOCH</li>\n",
    "    <li>on_epoch_end(epoch, logs) : Called at the END of every EPOCH</li>\n",
    "    <li>on_batch_begin(batch, logs) :  Called right BEFORE processing EACH BATCH</li>\n",
    "    <li>on_batch_end(batch, logs) : Called right AFTER processing EACH BATCH</li>\n",
    "    <li>on_train_begin(logs) :  Called at the START of TRAINING</li>\n",
    "    <li>on_train_end(logs) : Called at the END of TRAINING</li>\n",
    "</ul>"
   ]
  },
  {
   "cell_type": "code",
   "execution_count": 37,
   "id": "0fca8545-3678-48e7-9488-9549c36c13df",
   "metadata": {},
   "outputs": [],
   "source": [
    "from matplotlib import pyplot as plt\n",
    "class LossHistory(keras.callbacks.Callback):\n",
    "    def on_train_begin(self, logs):\n",
    "         self.per_batch_losses = []\n",
    " \n",
    "    def on_batch_end(self, batch, logs):\n",
    "         self.per_batch_losses.append(logs.get(\"loss\"))\n",
    " \n",
    "    def on_epoch_end(self, epoch, logs):\n",
    "         plt.clf()\n",
    "         plt.plot(range(len(self.per_batch_losses)), self.per_batch_losses,\n",
    "             label=\"Training loss for each batch\")\n",
    "         plt.xlabel(f\"Batch (epoch {epoch})\")\n",
    "         plt.ylabel(\"Loss\")\n",
    "         plt.legend()\n",
    "         plt.savefig(f\"plot_at_epoch_{epoch}\")\n",
    "         self.per_batch_losses = []"
   ]
  },
  {
   "cell_type": "code",
   "execution_count": 38,
   "id": "caf94b9c-4e1c-4e22-abd2-7b70ef09d1f4",
   "metadata": {},
   "outputs": [
    {
     "name": "stdout",
     "output_type": "stream",
     "text": [
      "Epoch 1/10\n",
      "\u001b[1m1563/1563\u001b[0m \u001b[32m━━━━━━━━━━━━━━━━━━━━\u001b[0m\u001b[37m\u001b[0m \u001b[1m5s\u001b[0m 3ms/step - accuracy: 0.8673 - loss: 0.4367 - val_accuracy: 0.9552 - val_loss: 0.1552\n",
      "Epoch 2/10\n",
      "\u001b[1m1563/1563\u001b[0m \u001b[32m━━━━━━━━━━━━━━━━━━━━\u001b[0m\u001b[37m\u001b[0m \u001b[1m4s\u001b[0m 3ms/step - accuracy: 0.9502 - loss: 0.1697 - val_accuracy: 0.9679 - val_loss: 0.1159\n",
      "Epoch 3/10\n",
      "\u001b[1m1563/1563\u001b[0m \u001b[32m━━━━━━━━━━━━━━━━━━━━\u001b[0m\u001b[37m\u001b[0m \u001b[1m4s\u001b[0m 3ms/step - accuracy: 0.9620 - loss: 0.1295 - val_accuracy: 0.9725 - val_loss: 0.1049\n",
      "Epoch 4/10\n",
      "\u001b[1m1563/1563\u001b[0m \u001b[32m━━━━━━━━━━━━━━━━━━━━\u001b[0m\u001b[37m\u001b[0m \u001b[1m4s\u001b[0m 3ms/step - accuracy: 0.9674 - loss: 0.1155 - val_accuracy: 0.9745 - val_loss: 0.0972\n",
      "Epoch 5/10\n",
      "\u001b[1m1563/1563\u001b[0m \u001b[32m━━━━━━━━━━━━━━━━━━━━\u001b[0m\u001b[37m\u001b[0m \u001b[1m4s\u001b[0m 3ms/step - accuracy: 0.9717 - loss: 0.1033 - val_accuracy: 0.9772 - val_loss: 0.0926\n",
      "Epoch 6/10\n",
      "\u001b[1m1563/1563\u001b[0m \u001b[32m━━━━━━━━━━━━━━━━━━━━\u001b[0m\u001b[37m\u001b[0m \u001b[1m4s\u001b[0m 3ms/step - accuracy: 0.9723 - loss: 0.0968 - val_accuracy: 0.9758 - val_loss: 0.1047\n",
      "Epoch 7/10\n",
      "\u001b[1m1563/1563\u001b[0m \u001b[32m━━━━━━━━━━━━━━━━━━━━\u001b[0m\u001b[37m\u001b[0m \u001b[1m4s\u001b[0m 3ms/step - accuracy: 0.9770 - loss: 0.0859 - val_accuracy: 0.9774 - val_loss: 0.1011\n",
      "Epoch 8/10\n",
      "\u001b[1m1563/1563\u001b[0m \u001b[32m━━━━━━━━━━━━━━━━━━━━\u001b[0m\u001b[37m\u001b[0m \u001b[1m4s\u001b[0m 3ms/step - accuracy: 0.9774 - loss: 0.0831 - val_accuracy: 0.9801 - val_loss: 0.0866\n",
      "Epoch 9/10\n",
      "\u001b[1m1563/1563\u001b[0m \u001b[32m━━━━━━━━━━━━━━━━━━━━\u001b[0m\u001b[37m\u001b[0m \u001b[1m4s\u001b[0m 3ms/step - accuracy: 0.9806 - loss: 0.0716 - val_accuracy: 0.9793 - val_loss: 0.0943\n",
      "Epoch 10/10\n",
      "\u001b[1m1563/1563\u001b[0m \u001b[32m━━━━━━━━━━━━━━━━━━━━\u001b[0m\u001b[37m\u001b[0m \u001b[1m4s\u001b[0m 3ms/step - accuracy: 0.9794 - loss: 0.0730 - val_accuracy: 0.9784 - val_loss: 0.0965\n"
     ]
    },
    {
     "data": {
      "text/plain": [
       "<keras.src.callbacks.history.History at 0x1fc3f3a5670>"
      ]
     },
     "execution_count": 38,
     "metadata": {},
     "output_type": "execute_result"
    },
    {
     "data": {
      "image/png": "[encoded data removed]",
      "text/plain": [
       "<Figure size 640x480 with 1 Axes>"
      ]
     },
     "metadata": {},
     "output_type": "display_data"
    }
   ],
   "source": [
    "model = get_mnist_model()\n",
    "\n",
    "model.compile(optimizer=\"rmsprop\",\n",
    "      loss=\"sparse_categorical_crossentropy\",\n",
    "      metrics=[\"accuracy\"])\n",
    "\n",
    "model.fit(train_images, train_labels,\n",
    "  epochs=10,\n",
    "  callbacks=[LossHistory()],\n",
    "  validation_data=(val_images, val_labels))"
   ]
  },
  {
   "cell_type": "code",
   "execution_count": null,
   "id": "1cf853df-6d76-4336-800f-5bced00272fb",
   "metadata": {},
   "outputs": [],
   "source": []
  }
 ],
 "metadata": {
  "kernelspec": {
   "display_name": "Python 3 (ipykernel)",
   "language": "python",
   "name": "python3"
  },
  "language_info": {
   "codemirror_mode": {
    "name": "ipython",
    "version": 3
   },
   "file_extension": ".py",
   "mimetype": "text/x-python",
   "name": "python",
   "nbconvert_exporter": "python",
   "pygments_lexer": "ipython3",
   "version": "3.12.5"
  }
 },
 "nbformat": 4,
 "nbformat_minor": 5
}
