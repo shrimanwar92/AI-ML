{
 "cells": [
  {
   "cell_type": "code",
   "execution_count": 1,
   "id": "d22bc182-4108-482f-b195-522ead3b87f1",
   "metadata": {},
   "outputs": [],
   "source": [
    "import keras\n",
    "from keras import layers"
   ]
  },
  {
   "cell_type": "code",
   "execution_count": 2,
   "id": "0ec6dc82-0276-4992-be32-81d388626e6a",
   "metadata": {},
   "outputs": [],
   "source": [
    "model = keras.Sequential([\n",
    "    layers.Dense(64, activation=\"relu\"),\n",
    "    layers.Dense(10, activation=\"softmax\")\n",
    "])"
   ]
  },
  {
   "cell_type": "markdown",
   "id": "b7e93cd1-cf6a-4de3-9755-a8ad29c8cc65",
   "metadata": {},
   "source": [
    "### it’s possible to build the same model incrementally via the add() method"
   ]
  },
  {
   "cell_type": "code",
   "execution_count": 3,
   "id": "2fe179da-203c-441e-abbd-0b470974c127",
   "metadata": {},
   "outputs": [],
   "source": [
    "model = keras.Sequential()\n",
    "model.add(layers.Dense(64, activation=\"relu\"))\n",
    "model.add(layers.Dense(10, activation=\"softmax\"))"
   ]
  },
  {
   "cell_type": "markdown",
   "id": "6cb228df-2a0e-4051-a18e-2bec2f2274a0",
   "metadata": {},
   "source": [
    "###  the shape of the layers' weights depends on the shape of their input: until the input shape is known, they can’t be created."
   ]
  },
  {
   "cell_type": "code",
   "execution_count": 5,
   "id": "94a95191-25b2-4040-8d80-242df3247f6a",
   "metadata": {},
   "outputs": [
    {
     "data": {
      "text/plain": [
       "[]"
      ]
     },
     "execution_count": 5,
     "metadata": {},
     "output_type": "execute_result"
    }
   ],
   "source": [
    "model.weights"
   ]
  },
  {
   "cell_type": "markdown",
   "id": "c6faf897-e732-4155-aae1-7477f08eb305",
   "metadata": {},
   "source": [
    "###  Sequential model does not have any weights until you actually call it on some data, or call its build() method with an input shape"
   ]
  },
  {
   "cell_type": "code",
   "execution_count": 8,
   "id": "ef024589-f709-4018-9691-ee0c5ab756c6",
   "metadata": {},
   "outputs": [
    {
     "data": {
      "text/plain": [
       "[<Variable path=sequential_1/dense_2/kernel, shape=(3, 64), dtype=float32, value=[[-1.96609318e-01  5.31513989e-02 -4.99491990e-02  1.51192486e-01\n",
       "   -6.27047569e-02  1.77209109e-01  2.62693405e-01  8.26083422e-02\n",
       "   -2.28679359e-01  1.61115825e-01 -1.26501635e-01  3.47914994e-02\n",
       "    1.21367604e-01 -5.79097122e-02 -1.87800705e-01  6.99294806e-02\n",
       "   -1.88149959e-01  1.39287531e-01  2.59078801e-01 -4.03821468e-05\n",
       "   -7.84274489e-02 -2.18686938e-01  8.67757201e-03  1.76341534e-02\n",
       "    3.18181813e-02  2.38523662e-01 -6.34485483e-03  3.94417942e-02\n",
       "    2.09647059e-01  1.56043380e-01  1.34292692e-01  1.50803775e-01\n",
       "    2.23655760e-01  2.10493386e-01  7.95869827e-02 -7.17598200e-02\n",
       "   -1.58302531e-01 -1.84860617e-01  2.64299512e-02 -2.50706524e-01\n",
       "   -2.76037067e-01 -8.32484663e-02 -4.83455062e-02  1.14273250e-01\n",
       "   -2.78099656e-01 -1.27521828e-01  1.81505680e-02 -1.65186778e-01\n",
       "   -2.12299272e-01  2.05225527e-01  2.08766699e-01 -1.74998045e-01\n",
       "    2.10647583e-01 -1.40584394e-01 -2.65661001e-01 -1.03201628e-01\n",
       "   -7.81535506e-02  2.73945689e-01 -2.55971879e-01  6.46086633e-02\n",
       "   -2.54174948e-01 -2.80993789e-01 -2.90581018e-01 -1.13850310e-01]\n",
       "  [-1.19275421e-01  3.10640335e-02 -8.18844438e-02  1.28627509e-01\n",
       "    8.09762776e-02 -7.66605288e-02 -2.64884472e-01  2.80659974e-01\n",
       "   -2.30256855e-01  1.29047245e-01  7.59360790e-02 -2.67936289e-01\n",
       "   -1.16017461e-03  1.66212261e-01 -2.15216517e-01  1.31081343e-01\n",
       "   -1.91947848e-01 -2.32858747e-01  1.36895388e-01  1.37879193e-01\n",
       "   -2.15472519e-01 -2.44223893e-01  1.14079326e-01 -1.26087248e-01\n",
       "   -2.29783952e-01  7.31273293e-02 -4.76720929e-03 -2.20695436e-01\n",
       "   -2.88285136e-01 -3.18318605e-02  2.59881735e-01 -1.44998521e-01\n",
       "   -2.39242762e-01 -9.07475054e-02  1.89920366e-02 -2.21691445e-01\n",
       "    2.39194810e-01 -8.11709017e-02 -2.46035755e-02 -9.42021608e-03\n",
       "    2.74849713e-01  5.42112887e-02 -2.32914388e-02 -3.43463719e-02\n",
       "    3.44832838e-02 -2.80939907e-01  6.56367242e-02 -2.16384619e-01\n",
       "    7.46871233e-02 -2.24513441e-01  8.13770890e-02  5.07517159e-02\n",
       "   -2.81839252e-01  4.83956933e-03 -1.96207792e-01  1.75827026e-01\n",
       "   -9.62463021e-03  5.82084358e-02 -2.56200552e-01 -7.33295381e-02\n",
       "   -2.63487637e-01 -1.32547826e-01  9.11641121e-02 -1.58992246e-01]\n",
       "  [-1.76972449e-01  1.01532310e-01  1.11457407e-02  2.04260826e-01\n",
       "    1.33875966e-01 -1.71047747e-02 -2.17432007e-01 -6.72239065e-02\n",
       "    3.70422304e-02 -2.57346630e-02  2.14966595e-01  1.88352019e-01\n",
       "    1.25233352e-01  9.65733826e-02  2.87146032e-01  7.54014552e-02\n",
       "    1.98495895e-01  1.10254973e-01  2.66273677e-01  1.75620317e-02\n",
       "    1.12216949e-01  9.70338583e-02 -2.69597620e-01  1.07107759e-01\n",
       "    1.16013914e-01  4.37217057e-02  1.25507683e-01 -1.12235144e-01\n",
       "    2.20624804e-01 -2.91332603e-03 -1.95233181e-01  4.83658612e-02\n",
       "    7.39875734e-02 -4.00185585e-02  1.25279456e-01  2.24510550e-01\n",
       "    3.67327929e-02  8.58080387e-03 -1.96382433e-01 -3.91234457e-02\n",
       "    2.87544966e-01 -2.49180540e-01 -9.42954719e-02  2.46995211e-01\n",
       "   -1.54673100e-01  1.15657747e-02  9.83400047e-02  2.44270861e-02\n",
       "   -1.14195198e-01 -6.20930195e-02  1.05090201e-01  1.32356256e-01\n",
       "   -8.40867311e-02 -6.49830997e-02  7.72764087e-02  1.70954436e-01\n",
       "   -4.76329029e-02 -8.87677670e-02  1.33591652e-01  9.86513793e-02\n",
       "   -2.30506212e-01  1.78275257e-01  2.89242685e-01  1.00259125e-01]]>,\n",
       " <Variable path=sequential_1/dense_2/bias, shape=(64,), dtype=float32, value=[0. 0. 0. 0. 0. 0. 0. 0. 0. 0. 0. 0. 0. 0. 0. 0. 0. 0. 0. 0. 0. 0. 0. 0.\n",
       "  0. 0. 0. 0. 0. 0. 0. 0. 0. 0. 0. 0. 0. 0. 0. 0. 0. 0. 0. 0. 0. 0. 0. 0.\n",
       "  0. 0. 0. 0. 0. 0. 0. 0. 0. 0. 0. 0. 0. 0. 0. 0.]>,\n",
       " <Variable path=sequential_1/dense_3/kernel, shape=(64, 10), dtype=float32, value=[[-0.07010089  0.13941136  0.20371085  0.13599029  0.091434   -0.1273994\n",
       "   -0.07944128  0.11800328  0.06433135  0.15370527]\n",
       "  [-0.10607646 -0.14006439  0.09664354 -0.11730076  0.14591888 -0.23680869\n",
       "    0.10720593 -0.03587191 -0.1751629  -0.25563738]\n",
       "  [-0.17589623 -0.16125134  0.17097345 -0.04086739  0.18896943 -0.07311517\n",
       "   -0.13489918  0.03449008 -0.02693301 -0.04974185]\n",
       "  [ 0.14965656  0.05466637 -0.1772492  -0.0124892  -0.03176463  0.20450455\n",
       "   -0.20401567  0.16954711  0.16952735 -0.01742345]\n",
       "  [ 0.25636938 -0.23206818  0.18087733  0.27102003 -0.06682803 -0.21865323\n",
       "    0.07830074  0.07155576  0.24138752  0.052376  ]\n",
       "  [ 0.03089291  0.08601716  0.03897464 -0.28336436  0.22009048  0.24349067\n",
       "    0.08349663  0.13807273 -0.23941997 -0.15164347]\n",
       "  [-0.06333447  0.08029383 -0.017627   -0.04107098  0.01921973 -0.06016716\n",
       "   -0.02720165 -0.07087585  0.21199366 -0.05192393]\n",
       "  [-0.0756551  -0.08110951  0.15054414 -0.0326243   0.17079979  0.06123573\n",
       "    0.2047309   0.00915757  0.18982604 -0.24821432]\n",
       "  [ 0.18617505  0.16086683  0.22705701  0.24658272  0.2792695   0.19799745\n",
       "    0.12018096  0.17284855 -0.25416324  0.01429757]\n",
       "  [ 0.06383243 -0.04523401 -0.09392317  0.18693554  0.0354017  -0.11803247\n",
       "    0.1439949  -0.08272357 -0.04514766  0.07632884]\n",
       "  [ 0.07996559  0.12109026 -0.16336934 -0.07558137  0.0658063   0.28466055\n",
       "    0.20763797 -0.08766237  0.03037214  0.22164097]\n",
       "  [-0.2698156   0.04945481  0.01266423 -0.22419822  0.01455921 -0.02087346\n",
       "   -0.21548106 -0.14894305  0.06047782  0.17501009]\n",
       "  [-0.28303605 -0.11972088  0.14347398 -0.13742797 -0.05915731  0.040324\n",
       "    0.01211366  0.14474133 -0.06358585  0.00398263]\n",
       "  [-0.00850672  0.1363222   0.22081861  0.00164482 -0.02150121 -0.06249644\n",
       "    0.17908987 -0.05546476  0.21139938 -0.20729792]\n",
       "  [ 0.2766886  -0.14663157  0.15697718 -0.11073297  0.2845579  -0.1752523\n",
       "   -0.10955578  0.02180639 -0.13598439 -0.23905486]\n",
       "  [-0.09670398 -0.08720493 -0.15012473  0.16838092 -0.02193049  0.22289184\n",
       "   -0.25833726 -0.03153303  0.02983427  0.01754615]\n",
       "  [-0.22366828  0.07081705  0.07936421  0.13453415 -0.2669851  -0.18035498\n",
       "    0.02642554  0.2644656  -0.23660263  0.19884267]\n",
       "  [-0.01007876 -0.02419662  0.16452998 -0.05154185 -0.19624774  0.08876646\n",
       "   -0.10822882  0.13966581 -0.18303008  0.15756536]\n",
       "  [ 0.15671039 -0.08774479 -0.02041349 -0.2532004  -0.00449684  0.14897421\n",
       "   -0.16003816 -0.17767832  0.06565186  0.27227703]\n",
       "  [-0.02126583  0.27272478  0.1069248   0.00728565  0.09236649 -0.02983895\n",
       "   -0.02493396  0.02869874  0.06600922  0.0761731 ]\n",
       "  [-0.23117314 -0.00423396  0.14104041 -0.15338537  0.26167426  0.07249969\n",
       "    0.0046483  -0.0923015   0.20389816 -0.17920181]\n",
       "  [-0.1379909   0.25072172  0.11610001 -0.13301757 -0.15270859  0.0280498\n",
       "   -0.20264426 -0.1326105   0.15518802 -0.1146383 ]\n",
       "  [-0.14130872 -0.20680721 -0.14367187  0.24436614 -0.14776021  0.12305138\n",
       "    0.10449886  0.14626375  0.10756257  0.2821453 ]\n",
       "  [ 0.19403714  0.11554053  0.0874376   0.21790448 -0.19118546  0.22074977\n",
       "    0.13688576  0.28026232 -0.06333737 -0.21811502]\n",
       "  [ 0.25975564 -0.2428671  -0.22529218  0.15940401 -0.16976401 -0.27043623\n",
       "    0.01787445 -0.0046083  -0.25631383  0.13934523]\n",
       "  [ 0.2761037  -0.1029584  -0.10499214  0.24521741  0.0252544   0.26226965\n",
       "   -0.00282234 -0.2630715   0.07387418 -0.14270906]\n",
       "  [-0.2296768  -0.01082519 -0.05850728  0.17215425  0.03365153 -0.10097352\n",
       "    0.01578999 -0.12688969  0.23720047 -0.26788402]\n",
       "  [-0.14690366 -0.15576366  0.08327171  0.15915412 -0.25504613 -0.13032319\n",
       "   -0.20461507 -0.20430386  0.11227298 -0.08258054]\n",
       "  [ 0.16028807  0.18418121  0.09930766  0.0377053  -0.0674184   0.12628493\n",
       "   -0.191863    0.11604849  0.21653357 -0.06829783]\n",
       "  [-0.2218128  -0.10743764 -0.23620337  0.13432321  0.2701672  -0.28288588\n",
       "   -0.1747151   0.10536051 -0.23192719 -0.02855599]\n",
       "  [ 0.02612352  0.1788978   0.04512492 -0.0303688  -0.22103879  0.19515568\n",
       "   -0.12888257 -0.264002   -0.1531722  -0.09547898]\n",
       "  [ 0.1479812  -0.06245448 -0.20929176  0.08169383  0.11585826  0.20121065\n",
       "    0.06654269 -0.23648988 -0.02463442  0.14650536]\n",
       "  [ 0.19815537  0.03233284 -0.21967593 -0.23387675  0.25061634  0.22002473\n",
       "   -0.21859437 -0.07093844 -0.1430697   0.23179153]\n",
       "  [-0.22437385 -0.10913996  0.06894264  0.04331154 -0.22676238 -0.12430197\n",
       "    0.13730821 -0.25777432  0.16172254  0.12606171]\n",
       "  [-0.19296578 -0.2140598  -0.11996901  0.10800818 -0.19339952  0.05792701\n",
       "   -0.18181479 -0.11357822  0.2110337   0.15481254]\n",
       "  [-0.2836019  -0.22093439 -0.25867087 -0.10242417  0.25980493 -0.18548265\n",
       "   -0.15321347  0.28087786  0.19372404  0.0514811 ]\n",
       "  [-0.2374397   0.08521932  0.20470035  0.10441169  0.23823777 -0.1850003\n",
       "    0.00920224 -0.03646784 -0.12978822 -0.2562041 ]\n",
       "  [-0.24267586  0.2504287  -0.10638388  0.14991394 -0.19084059  0.11376795\n",
       "    0.22483674 -0.20650735 -0.04067153  0.08980387]\n",
       "  [ 0.24067643  0.09665218 -0.01310349 -0.17490384 -0.02348894  0.02978009\n",
       "   -0.23547854 -0.16244327  0.27714422 -0.05149983]\n",
       "  [ 0.28425643  0.23805884  0.11160672 -0.00368786 -0.25272527  0.1641221\n",
       "    0.01833934  0.24701235 -0.23196867  0.20485222]\n",
       "  [ 0.00113857 -0.04766376 -0.05710658  0.16284585  0.2229589   0.14764875\n",
       "   -0.08236104  0.07784209  0.06024414 -0.14663455]\n",
       "  [-0.11374888  0.00149614  0.23395637  0.01163015 -0.08668253  0.05783695\n",
       "   -0.24082479  0.10654035 -0.262792   -0.15305291]\n",
       "  [-0.19810553  0.14809668 -0.24377838 -0.18789223 -0.18163502  0.07395902\n",
       "   -0.10772577  0.28341493 -0.11405832 -0.21683374]\n",
       "  [-0.19156802  0.19027784  0.2655168   0.15597677 -0.13113934 -0.01946923\n",
       "   -0.03818679 -0.21042082 -0.00741383  0.08587676]\n",
       "  [-0.1660217   0.19866392  0.2605858  -0.13312735 -0.24143451 -0.11900702\n",
       "   -0.26027018 -0.05881977  0.19345433  0.24433151]\n",
       "  [ 0.26541516 -0.16558348  0.03300324 -0.22617617  0.09505767  0.17424443\n",
       "    0.02599317 -0.03575894 -0.09941566 -0.25652027]\n",
       "  [-0.22450352 -0.11560646  0.02482805  0.13994536  0.20317394  0.06427208\n",
       "    0.20968816 -0.1971711   0.08057332 -0.05074897]\n",
       "  [ 0.1869747  -0.21725908 -0.07465313  0.04555249 -0.11763234 -0.09726059\n",
       "   -0.22496536 -0.0050056   0.05857211  0.02726853]\n",
       "  [ 0.2521747  -0.23361307 -0.01090053 -0.05674277  0.0583964  -0.2535899\n",
       "   -0.17866904  0.08231938  0.13933986  0.17315215]\n",
       "  [ 0.21107492 -0.16501653 -0.08453092 -0.16099621 -0.2544221   0.15738982\n",
       "   -0.25820142  0.20337093 -0.22826585 -0.14250004]\n",
       "  [ 0.01660961 -0.24797772  0.17534313  0.25763032 -0.10195105 -0.19698298\n",
       "    0.22583178 -0.27291012  0.20576239  0.14928827]\n",
       "  [-0.17065078 -0.13989085 -0.18442446 -0.09468834  0.136718    0.15686524\n",
       "   -0.13546734 -0.27070752 -0.17902613 -0.19646499]\n",
       "  [-0.21461329 -0.07733209 -0.23516908  0.20819527  0.04084492  0.21048036\n",
       "   -0.17109464  0.02367374 -0.04770721  0.06460658]\n",
       "  [ 0.22852573 -0.26501998  0.1684573   0.18250564  0.06779972  0.09979028\n",
       "    0.2677813   0.23233536 -0.1938461  -0.15291008]\n",
       "  [-0.2682674   0.17188656 -0.03778142 -0.1508176  -0.20532234  0.00057143\n",
       "   -0.03031009  0.03731048 -0.22538593  0.11126578]\n",
       "  [ 0.23445633 -0.19690356 -0.08598544  0.23388591  0.24618796  0.20600551\n",
       "    0.11254072  0.04712847  0.20851564 -0.07305278]\n",
       "  [-0.06812553  0.03873023 -0.11891097  0.21585318  0.17211366  0.03861746\n",
       "    0.22479126  0.22918805 -0.06005596 -0.0683095 ]\n",
       "  [ 0.20987675  0.07084617  0.15841126 -0.10336885  0.13362646  0.03552043\n",
       "    0.14204028  0.16844264  0.03221208 -0.056226  ]\n",
       "  [ 0.18825787  0.05990526  0.19450375  0.10499668  0.18718985  0.2613711\n",
       "    0.2655659  -0.1334399  -0.02878204  0.26119366]\n",
       "  [ 0.03769737 -0.12092876 -0.13684149 -0.25687045 -0.20076427 -0.25131196\n",
       "   -0.08299391 -0.17222032  0.24503282 -0.26128066]\n",
       "  [-0.202301   -0.19852039  0.20947057 -0.2088561  -0.04082386  0.05333358\n",
       "    0.23230687 -0.04300304  0.18060285  0.26484236]\n",
       "  [-0.06122127  0.1284514  -0.17715089  0.089863   -0.02357998  0.02862698\n",
       "   -0.03759392  0.13142088 -0.26429975 -0.27719346]\n",
       "  [-0.00518015  0.15684167  0.00268957  0.23093095  0.12509328  0.02792501\n",
       "   -0.20012876 -0.21701398 -0.2776405  -0.1452338 ]\n",
       "  [ 0.22252211  0.21766064 -0.04445057 -0.10029966  0.12981457  0.25023082\n",
       "    0.20430523  0.27373955  0.0759902  -0.0943045 ]]>,\n",
       " <Variable path=sequential_1/dense_3/bias, shape=(10,), dtype=float32, value=[0. 0. 0. 0. 0. 0. 0. 0. 0. 0.]>]"
      ]
     },
     "execution_count": 8,
     "metadata": {},
     "output_type": "execute_result"
    }
   ],
   "source": [
    "model.build(input_shape=(None, 3))\n",
    "model.weights"
   ]
  },
  {
   "cell_type": "markdown",
   "id": "5b8027a4-6efd-4d2f-897c-556605212706",
   "metadata": {},
   "source": [
    "#### After the model is built, you can display its contents via the summary() method, which comes in handy for debugging."
   ]
  },
  {
   "cell_type": "code",
   "execution_count": 9,
   "id": "bec18d12-f160-4d2d-9768-8eaebdf2de08",
   "metadata": {},
   "outputs": [
    {
     "data": {
      "text/html": [
       "<pre style=\"white-space:pre;overflow-x:auto;line-height:normal;font-family:Menlo,'DejaVu Sans Mono',consolas,'Courier New',monospace\"><span style=\"font-weight: bold\">Model: \"sequential_1\"</span>\n",
       "</pre>\n"
      ],
      "text/plain": [
       "\u001b[1mModel: \"sequential_1\"\u001b[0m\n"
      ]
     },
     "metadata": {},
     "output_type": "display_data"
    },
    {
     "data": {
      "text/html": [
       "<pre style=\"white-space:pre;overflow-x:auto;line-height:normal;font-family:Menlo,'DejaVu Sans Mono',consolas,'Courier New',monospace\">┏━━━━━━━━━━━━━━━━━━━━━━━━━━━━━━━━━━━━━━┳━━━━━━━━━━━━━━━━━━━━━━━━━━━━━┳━━━━━━━━━━━━━━━━━┓\n",
       "┃<span style=\"font-weight: bold\"> Layer (type)                         </span>┃<span style=\"font-weight: bold\"> Output Shape                </span>┃<span style=\"font-weight: bold\">         Param # </span>┃\n",
       "┡━━━━━━━━━━━━━━━━━━━━━━━━━━━━━━━━━━━━━━╇━━━━━━━━━━━━━━━━━━━━━━━━━━━━━╇━━━━━━━━━━━━━━━━━┩\n",
       "│ dense_2 (<span style=\"color: #0087ff; text-decoration-color: #0087ff\">Dense</span>)                      │ (<span style=\"color: #00d7ff; text-decoration-color: #00d7ff\">None</span>, <span style=\"color: #00af00; text-decoration-color: #00af00\">64</span>)                  │             <span style=\"color: #00af00; text-decoration-color: #00af00\">256</span> │\n",
       "├──────────────────────────────────────┼─────────────────────────────┼─────────────────┤\n",
       "│ dense_3 (<span style=\"color: #0087ff; text-decoration-color: #0087ff\">Dense</span>)                      │ (<span style=\"color: #00d7ff; text-decoration-color: #00d7ff\">None</span>, <span style=\"color: #00af00; text-decoration-color: #00af00\">10</span>)                  │             <span style=\"color: #00af00; text-decoration-color: #00af00\">650</span> │\n",
       "└──────────────────────────────────────┴─────────────────────────────┴─────────────────┘\n",
       "</pre>\n"
      ],
      "text/plain": [
       "┏━━━━━━━━━━━━━━━━━━━━━━━━━━━━━━━━━━━━━━┳━━━━━━━━━━━━━━━━━━━━━━━━━━━━━┳━━━━━━━━━━━━━━━━━┓\n",
       "┃\u001b[1m \u001b[0m\u001b[1mLayer (type)                        \u001b[0m\u001b[1m \u001b[0m┃\u001b[1m \u001b[0m\u001b[1mOutput Shape               \u001b[0m\u001b[1m \u001b[0m┃\u001b[1m \u001b[0m\u001b[1m        Param #\u001b[0m\u001b[1m \u001b[0m┃\n",
       "┡━━━━━━━━━━━━━━━━━━━━━━━━━━━━━━━━━━━━━━╇━━━━━━━━━━━━━━━━━━━━━━━━━━━━━╇━━━━━━━━━━━━━━━━━┩\n",
       "│ dense_2 (\u001b[38;5;33mDense\u001b[0m)                      │ (\u001b[38;5;45mNone\u001b[0m, \u001b[38;5;34m64\u001b[0m)                  │             \u001b[38;5;34m256\u001b[0m │\n",
       "├──────────────────────────────────────┼─────────────────────────────┼─────────────────┤\n",
       "│ dense_3 (\u001b[38;5;33mDense\u001b[0m)                      │ (\u001b[38;5;45mNone\u001b[0m, \u001b[38;5;34m10\u001b[0m)                  │             \u001b[38;5;34m650\u001b[0m │\n",
       "└──────────────────────────────────────┴─────────────────────────────┴─────────────────┘\n"
      ]
     },
     "metadata": {},
     "output_type": "display_data"
    },
    {
     "data": {
      "text/html": [
       "<pre style=\"white-space:pre;overflow-x:auto;line-height:normal;font-family:Menlo,'DejaVu Sans Mono',consolas,'Courier New',monospace\"><span style=\"font-weight: bold\"> Total params: </span><span style=\"color: #00af00; text-decoration-color: #00af00\">906</span> (3.54 KB)\n",
       "</pre>\n"
      ],
      "text/plain": [
       "\u001b[1m Total params: \u001b[0m\u001b[38;5;34m906\u001b[0m (3.54 KB)\n"
      ]
     },
     "metadata": {},
     "output_type": "display_data"
    },
    {
     "data": {
      "text/html": [
       "<pre style=\"white-space:pre;overflow-x:auto;line-height:normal;font-family:Menlo,'DejaVu Sans Mono',consolas,'Courier New',monospace\"><span style=\"font-weight: bold\"> Trainable params: </span><span style=\"color: #00af00; text-decoration-color: #00af00\">906</span> (3.54 KB)\n",
       "</pre>\n"
      ],
      "text/plain": [
       "\u001b[1m Trainable params: \u001b[0m\u001b[38;5;34m906\u001b[0m (3.54 KB)\n"
      ]
     },
     "metadata": {},
     "output_type": "display_data"
    },
    {
     "data": {
      "text/html": [
       "<pre style=\"white-space:pre;overflow-x:auto;line-height:normal;font-family:Menlo,'DejaVu Sans Mono',consolas,'Courier New',monospace\"><span style=\"font-weight: bold\"> Non-trainable params: </span><span style=\"color: #00af00; text-decoration-color: #00af00\">0</span> (0.00 B)\n",
       "</pre>\n"
      ],
      "text/plain": [
       "\u001b[1m Non-trainable params: \u001b[0m\u001b[38;5;34m0\u001b[0m (0.00 B)\n"
      ]
     },
     "metadata": {},
     "output_type": "display_data"
    }
   ],
   "source": [
    "model.summary()"
   ]
  },
  {
   "cell_type": "markdown",
   "id": "fdb3f80b-22dd-4e76-b591-04161f2ed9af",
   "metadata": {},
   "source": [
    "<!-- When building a Sequential model incrementally, it’s useful to be able to print a sum\n",
    "mary of what the current model looks like after you add each layer. But you can’t print\n",
    "a summary until the model is built! There’s actually a way to have your Sequential\n",
    "built on the fly: just declare the shape of the model’s inputs in advance. You can do\n",
    "this via the Input class -->"
   ]
  },
  {
   "cell_type": "markdown",
   "id": "e462373c-374f-4b70-8c02-cf228d5a3964",
   "metadata": {},
   "source": [
    "#### When building a Sequential model incrementally, it’s useful to be able to print a summary of what the current model looks like after you add each layer. But you can’t print a summary until the model is built! Declare the shape of the model’s inputs in advance. We can display summary of the model via the Input class"
   ]
  },
  {
   "cell_type": "code",
   "execution_count": 12,
   "id": "d58f85ec-1e78-4001-adcb-63334841f76c",
   "metadata": {},
   "outputs": [
    {
     "data": {
      "text/html": [
       "<pre style=\"white-space:pre;overflow-x:auto;line-height:normal;font-family:Menlo,'DejaVu Sans Mono',consolas,'Courier New',monospace\"><span style=\"font-weight: bold\">Model: \"sequential_4\"</span>\n",
       "</pre>\n"
      ],
      "text/plain": [
       "\u001b[1mModel: \"sequential_4\"\u001b[0m\n"
      ]
     },
     "metadata": {},
     "output_type": "display_data"
    },
    {
     "data": {
      "text/html": [
       "<pre style=\"white-space:pre;overflow-x:auto;line-height:normal;font-family:Menlo,'DejaVu Sans Mono',consolas,'Courier New',monospace\">┏━━━━━━━━━━━━━━━━━━━━━━━━━━━━━━━━━━━━━━┳━━━━━━━━━━━━━━━━━━━━━━━━━━━━━┳━━━━━━━━━━━━━━━━━┓\n",
       "┃<span style=\"font-weight: bold\"> Layer (type)                         </span>┃<span style=\"font-weight: bold\"> Output Shape                </span>┃<span style=\"font-weight: bold\">         Param # </span>┃\n",
       "┡━━━━━━━━━━━━━━━━━━━━━━━━━━━━━━━━━━━━━━╇━━━━━━━━━━━━━━━━━━━━━━━━━━━━━╇━━━━━━━━━━━━━━━━━┩\n",
       "│ dense_8 (<span style=\"color: #0087ff; text-decoration-color: #0087ff\">Dense</span>)                      │ (<span style=\"color: #00d7ff; text-decoration-color: #00d7ff\">None</span>, <span style=\"color: #00af00; text-decoration-color: #00af00\">64</span>)                  │             <span style=\"color: #00af00; text-decoration-color: #00af00\">256</span> │\n",
       "└──────────────────────────────────────┴─────────────────────────────┴─────────────────┘\n",
       "</pre>\n"
      ],
      "text/plain": [
       "┏━━━━━━━━━━━━━━━━━━━━━━━━━━━━━━━━━━━━━━┳━━━━━━━━━━━━━━━━━━━━━━━━━━━━━┳━━━━━━━━━━━━━━━━━┓\n",
       "┃\u001b[1m \u001b[0m\u001b[1mLayer (type)                        \u001b[0m\u001b[1m \u001b[0m┃\u001b[1m \u001b[0m\u001b[1mOutput Shape               \u001b[0m\u001b[1m \u001b[0m┃\u001b[1m \u001b[0m\u001b[1m        Param #\u001b[0m\u001b[1m \u001b[0m┃\n",
       "┡━━━━━━━━━━━━━━━━━━━━━━━━━━━━━━━━━━━━━━╇━━━━━━━━━━━━━━━━━━━━━━━━━━━━━╇━━━━━━━━━━━━━━━━━┩\n",
       "│ dense_8 (\u001b[38;5;33mDense\u001b[0m)                      │ (\u001b[38;5;45mNone\u001b[0m, \u001b[38;5;34m64\u001b[0m)                  │             \u001b[38;5;34m256\u001b[0m │\n",
       "└──────────────────────────────────────┴─────────────────────────────┴─────────────────┘\n"
      ]
     },
     "metadata": {},
     "output_type": "display_data"
    },
    {
     "data": {
      "text/html": [
       "<pre style=\"white-space:pre;overflow-x:auto;line-height:normal;font-family:Menlo,'DejaVu Sans Mono',consolas,'Courier New',monospace\"><span style=\"font-weight: bold\"> Total params: </span><span style=\"color: #00af00; text-decoration-color: #00af00\">256</span> (1.00 KB)\n",
       "</pre>\n"
      ],
      "text/plain": [
       "\u001b[1m Total params: \u001b[0m\u001b[38;5;34m256\u001b[0m (1.00 KB)\n"
      ]
     },
     "metadata": {},
     "output_type": "display_data"
    },
    {
     "data": {
      "text/html": [
       "<pre style=\"white-space:pre;overflow-x:auto;line-height:normal;font-family:Menlo,'DejaVu Sans Mono',consolas,'Courier New',monospace\"><span style=\"font-weight: bold\"> Trainable params: </span><span style=\"color: #00af00; text-decoration-color: #00af00\">256</span> (1.00 KB)\n",
       "</pre>\n"
      ],
      "text/plain": [
       "\u001b[1m Trainable params: \u001b[0m\u001b[38;5;34m256\u001b[0m (1.00 KB)\n"
      ]
     },
     "metadata": {},
     "output_type": "display_data"
    },
    {
     "data": {
      "text/html": [
       "<pre style=\"white-space:pre;overflow-x:auto;line-height:normal;font-family:Menlo,'DejaVu Sans Mono',consolas,'Courier New',monospace\"><span style=\"font-weight: bold\"> Non-trainable params: </span><span style=\"color: #00af00; text-decoration-color: #00af00\">0</span> (0.00 B)\n",
       "</pre>\n"
      ],
      "text/plain": [
       "\u001b[1m Non-trainable params: \u001b[0m\u001b[38;5;34m0\u001b[0m (0.00 B)\n"
      ]
     },
     "metadata": {},
     "output_type": "display_data"
    }
   ],
   "source": [
    "model = keras.Sequential()\n",
    "model.add(keras.Input(shape=(3,)))         \n",
    "model.add(layers.Dense(64, activation=\"relu\"))\n",
    "model.summary()"
   ]
  },
  {
   "cell_type": "code",
   "execution_count": 13,
   "id": "4bb2c404-795b-434a-9b79-cf02f7d724a7",
   "metadata": {},
   "outputs": [
    {
     "data": {
      "text/html": [
       "<pre style=\"white-space:pre;overflow-x:auto;line-height:normal;font-family:Menlo,'DejaVu Sans Mono',consolas,'Courier New',monospace\"><span style=\"font-weight: bold\">Model: \"sequential_4\"</span>\n",
       "</pre>\n"
      ],
      "text/plain": [
       "\u001b[1mModel: \"sequential_4\"\u001b[0m\n"
      ]
     },
     "metadata": {},
     "output_type": "display_data"
    },
    {
     "data": {
      "text/html": [
       "<pre style=\"white-space:pre;overflow-x:auto;line-height:normal;font-family:Menlo,'DejaVu Sans Mono',consolas,'Courier New',monospace\">┏━━━━━━━━━━━━━━━━━━━━━━━━━━━━━━━━━━━━━━┳━━━━━━━━━━━━━━━━━━━━━━━━━━━━━┳━━━━━━━━━━━━━━━━━┓\n",
       "┃<span style=\"font-weight: bold\"> Layer (type)                         </span>┃<span style=\"font-weight: bold\"> Output Shape                </span>┃<span style=\"font-weight: bold\">         Param # </span>┃\n",
       "┡━━━━━━━━━━━━━━━━━━━━━━━━━━━━━━━━━━━━━━╇━━━━━━━━━━━━━━━━━━━━━━━━━━━━━╇━━━━━━━━━━━━━━━━━┩\n",
       "│ dense_8 (<span style=\"color: #0087ff; text-decoration-color: #0087ff\">Dense</span>)                      │ (<span style=\"color: #00d7ff; text-decoration-color: #00d7ff\">None</span>, <span style=\"color: #00af00; text-decoration-color: #00af00\">64</span>)                  │             <span style=\"color: #00af00; text-decoration-color: #00af00\">256</span> │\n",
       "├──────────────────────────────────────┼─────────────────────────────┼─────────────────┤\n",
       "│ dense_9 (<span style=\"color: #0087ff; text-decoration-color: #0087ff\">Dense</span>)                      │ (<span style=\"color: #00d7ff; text-decoration-color: #00d7ff\">None</span>, <span style=\"color: #00af00; text-decoration-color: #00af00\">10</span>)                  │             <span style=\"color: #00af00; text-decoration-color: #00af00\">650</span> │\n",
       "└──────────────────────────────────────┴─────────────────────────────┴─────────────────┘\n",
       "</pre>\n"
      ],
      "text/plain": [
       "┏━━━━━━━━━━━━━━━━━━━━━━━━━━━━━━━━━━━━━━┳━━━━━━━━━━━━━━━━━━━━━━━━━━━━━┳━━━━━━━━━━━━━━━━━┓\n",
       "┃\u001b[1m \u001b[0m\u001b[1mLayer (type)                        \u001b[0m\u001b[1m \u001b[0m┃\u001b[1m \u001b[0m\u001b[1mOutput Shape               \u001b[0m\u001b[1m \u001b[0m┃\u001b[1m \u001b[0m\u001b[1m        Param #\u001b[0m\u001b[1m \u001b[0m┃\n",
       "┡━━━━━━━━━━━━━━━━━━━━━━━━━━━━━━━━━━━━━━╇━━━━━━━━━━━━━━━━━━━━━━━━━━━━━╇━━━━━━━━━━━━━━━━━┩\n",
       "│ dense_8 (\u001b[38;5;33mDense\u001b[0m)                      │ (\u001b[38;5;45mNone\u001b[0m, \u001b[38;5;34m64\u001b[0m)                  │             \u001b[38;5;34m256\u001b[0m │\n",
       "├──────────────────────────────────────┼─────────────────────────────┼─────────────────┤\n",
       "│ dense_9 (\u001b[38;5;33mDense\u001b[0m)                      │ (\u001b[38;5;45mNone\u001b[0m, \u001b[38;5;34m10\u001b[0m)                  │             \u001b[38;5;34m650\u001b[0m │\n",
       "└──────────────────────────────────────┴─────────────────────────────┴─────────────────┘\n"
      ]
     },
     "metadata": {},
     "output_type": "display_data"
    },
    {
     "data": {
      "text/html": [
       "<pre style=\"white-space:pre;overflow-x:auto;line-height:normal;font-family:Menlo,'DejaVu Sans Mono',consolas,'Courier New',monospace\"><span style=\"font-weight: bold\"> Total params: </span><span style=\"color: #00af00; text-decoration-color: #00af00\">906</span> (3.54 KB)\n",
       "</pre>\n"
      ],
      "text/plain": [
       "\u001b[1m Total params: \u001b[0m\u001b[38;5;34m906\u001b[0m (3.54 KB)\n"
      ]
     },
     "metadata": {},
     "output_type": "display_data"
    },
    {
     "data": {
      "text/html": [
       "<pre style=\"white-space:pre;overflow-x:auto;line-height:normal;font-family:Menlo,'DejaVu Sans Mono',consolas,'Courier New',monospace\"><span style=\"font-weight: bold\"> Trainable params: </span><span style=\"color: #00af00; text-decoration-color: #00af00\">906</span> (3.54 KB)\n",
       "</pre>\n"
      ],
      "text/plain": [
       "\u001b[1m Trainable params: \u001b[0m\u001b[38;5;34m906\u001b[0m (3.54 KB)\n"
      ]
     },
     "metadata": {},
     "output_type": "display_data"
    },
    {
     "data": {
      "text/html": [
       "<pre style=\"white-space:pre;overflow-x:auto;line-height:normal;font-family:Menlo,'DejaVu Sans Mono',consolas,'Courier New',monospace\"><span style=\"font-weight: bold\"> Non-trainable params: </span><span style=\"color: #00af00; text-decoration-color: #00af00\">0</span> (0.00 B)\n",
       "</pre>\n"
      ],
      "text/plain": [
       "\u001b[1m Non-trainable params: \u001b[0m\u001b[38;5;34m0\u001b[0m (0.00 B)\n"
      ]
     },
     "metadata": {},
     "output_type": "display_data"
    }
   ],
   "source": [
    "model.add(layers.Dense(10, activation=\"softmax\"))\n",
    "model.summary()"
   ]
  },
  {
   "cell_type": "code",
   "execution_count": null,
   "id": "bf7c8c61-5442-409a-8f66-baae60cd6e77",
   "metadata": {},
   "outputs": [],
   "source": []
  }
 ],
 "metadata": {
  "kernelspec": {
   "display_name": "Python 3 (ipykernel)",
   "language": "python",
   "name": "python3"
  },
  "language_info": {
   "codemirror_mode": {
    "name": "ipython",
    "version": 3
   },
   "file_extension": ".py",
   "mimetype": "text/x-python",
   "name": "python",
   "nbconvert_exporter": "python",
   "pygments_lexer": "ipython3",
   "version": "3.12.5"
  }
 },
 "nbformat": 4,
 "nbformat_minor": 5
}
