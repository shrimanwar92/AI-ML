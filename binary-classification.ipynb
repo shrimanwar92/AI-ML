{
 "cells": [
  {
   "cell_type": "code",
   "execution_count": 57,
   "id": "40cf6b0a-11d5-4531-9341-2c48d038c0d9",
   "metadata": {},
   "outputs": [],
   "source": [
    "from keras.datasets import imdb"
   ]
  },
  {
   "cell_type": "code",
   "execution_count": 58,
   "id": "602277f7-43a9-421d-956d-ce12a2994178",
   "metadata": {},
   "outputs": [],
   "source": [
    "(train_data, train_labels), (test_data, test_labels) = imdb.load_data(num_words=10000)"
   ]
  },
  {
   "cell_type": "code",
   "execution_count": 59,
   "id": "634bb144-1621-4b1c-9289-16aac3a033cf",
   "metadata": {},
   "outputs": [
    {
     "name": "stdout",
     "output_type": "stream",
     "text": [
      "[1, 14, 22, 16, 43, 530, 973, 1622, 1385, 65, 458, 4468, 66, 3941, 4, 173, 36, 256, 5, 25, 100, 43, 838, 112, 50, 670, 2, 9, 35, 480, 284, 5, 150, 4, 172, 112, 167, 2, 336, 385, 39, 4, 172, 4536, 1111, 17, 546, 38, 13, 447, 4, 192, 50, 16, 6, 147, 2025, 19, 14, 22, 4, 1920, 4613, 469, 4, 22, 71, 87, 12, 16, 43, 530, 38, 76, 15, 13, 1247, 4, 22, 17, 515, 17, 12, 16, 626, 18, 2, 5, 62, 386, 12, 8, 316, 8, 106, 5, 4, 2223, 5244, 16, 480, 66, 3785, 33, 4, 130, 12, 16, 38, 619, 5, 25, 124, 51, 36, 135, 48, 25, 1415, 33, 6, 22, 12, 215, 28, 77, 52, 5, 14, 407, 16, 82, 2, 8, 4, 107, 117, 5952, 15, 256, 4, 2, 7, 3766, 5, 723, 36, 71, 43, 530, 476, 26, 400, 317, 46, 7, 4, 2, 1029, 13, 104, 88, 4, 381, 15, 297, 98, 32, 2071, 56, 26, 141, 6, 194, 7486, 18, 4, 226, 22, 21, 134, 476, 26, 480, 5, 144, 30, 5535, 18, 51, 36, 28, 224, 92, 25, 104, 4, 226, 65, 16, 38, 1334, 88, 12, 16, 283, 5, 16, 4472, 113, 103, 32, 15, 16, 5345, 19, 178, 32]\n",
      " ? this film was just brilliant casting location scenery story direction everyone's really suited the part they played and you could just imagine being there robert ? is an amazing actor and now the same being director ? father came from the same scottish island as myself so i loved the fact there was a real connection with this film the witty remarks throughout the film were great it was just brilliant so much that i bought the film as soon as it was released for ? and would recommend it to everyone to watch and the fly fishing was amazing really cried at the end it was so sad and you know what they say if you cry at a film it must have been good and this definitely was also ? to the two little boy's that played the ? of norman and paul they were just brilliant children are often left out of the ? list i think because the stars that play them all grown up are such a big profile for the whole film but these children are amazing and should be praised for what they have done don't you think the whole story was so lovely because it was true and was someone's life after all that was shared with us all\n"
     ]
    }
   ],
   "source": [
    "word_index = imdb.get_word_index() #word_index is a dict mapping words to integer (https://storage.googleapis.com/tensorflow/tf-keras-datasets/imdb_word_index.json)\n",
    "reverse_word_index = dict([(value, key) for (key, value) in word_index.items()])\n",
    "print(train_data[0])\n",
    "review = \"\"\n",
    "for i in train_data[0]:\n",
    "    word = reverse_word_index.get(i-3, \"?\")\n",
    "    review += f\" {word}\"\n",
    "\n",
    "print(review)\n",
    "    "
   ]
  },
  {
   "cell_type": "code",
   "execution_count": 60,
   "id": "e92e1a7b-ccc0-4647-8246-ec97eaa33611",
   "metadata": {},
   "outputs": [
    {
     "name": "stdout",
     "output_type": "stream",
     "text": [
      "[0. 1. 1. ... 0. 0. 0.]\n"
     ]
    }
   ],
   "source": [
    "# encoding the integer sequences via multi-hot encoding\n",
    "# multi-hot encoding turns list into vectors of 0 & 1. For example, turning the sequence [8,5] into 10000 dimensional vector\n",
    "# that would be all 0's except for index 8 and 5 which would be 1.\n",
    "\n",
    "import numpy as np\n",
    "\n",
    "def vectorize_sequences(sequences, dimensions=10000):\n",
    "    results = np.zeros((len(sequences), dimensions))\n",
    "\n",
    "    for i, sequence in enumerate(sequences):\n",
    "        for j in sequence:\n",
    "            results[i, j] = 1.\n",
    "    return results\n",
    "\n",
    "x_train = vectorize_sequences(train_data)\n",
    "x_test = vectorize_sequences(test_data)\n",
    "print(x_train[0])"
   ]
  },
  {
   "cell_type": "code",
   "execution_count": 61,
   "id": "43049665-9656-4c57-bc82-7fab2b38c6cc",
   "metadata": {},
   "outputs": [],
   "source": [
    "# vectorize the labels\n",
    "y_train = np.asarray(train_labels).astype(\"float32\")\n",
    "y_test = np.asarray(test_labels).astype(\"float32\")"
   ]
  },
  {
   "cell_type": "code",
   "execution_count": 62,
   "id": "febbffa5-8712-4752-8672-dd35579aad67",
   "metadata": {},
   "outputs": [],
   "source": [
    "# Building the model\n",
    "import keras\n",
    "from keras import layers\n",
    "\n",
    "model = keras.Sequential([\n",
    "    layers.Dense(16, activation=\"relu\"),\n",
    "    layers.Dense(16, activation=\"relu\"),\n",
    "    layers.Dense(1, activation=\"sigmoid\")\n",
    "])\n",
    "\n",
    "# output = relu(dot(input, W) + b)\n",
    "# relu = max(0, output)\n",
    "# relu provides non-linearity to neyral network"
   ]
  },
  {
   "cell_type": "code",
   "execution_count": 63,
   "id": "b83cf298-06b5-4332-a647-6f3262947e42",
   "metadata": {},
   "outputs": [],
   "source": [
    "model.compile(\n",
    "    optimizer=\"rmsprop\",\n",
    "    loss=\"binary_crossentropy\",\n",
    "    metrics=[\"accuracy\"]\n",
    ")"
   ]
  },
  {
   "cell_type": "code",
   "execution_count": 64,
   "id": "55e59e9e-c1e0-472c-89fa-059cc0d41eeb",
   "metadata": {},
   "outputs": [],
   "source": [
    "# sepearte validation data\n",
    "\n",
    "val_x = x_train[:10000]\n",
    "val_y = y_train[:10000]\n",
    "\n",
    "partial_x_train = x_train[10000:]\n",
    "partial_y_train = y_train[10000:]"
   ]
  },
  {
   "cell_type": "code",
   "execution_count": 65,
   "id": "6e148346-6c0c-4fc4-a4dc-ea4599cd1f19",
   "metadata": {},
   "outputs": [
    {
     "name": "stdout",
     "output_type": "stream",
     "text": [
      "Epoch 1/20\n",
      "\u001b[1m30/30\u001b[0m \u001b[32m━━━━━━━━━━━━━━━━━━━━\u001b[0m\u001b[37m\u001b[0m \u001b[1m2s\u001b[0m 31ms/step - accuracy: 0.7039 - loss: 0.5915 - val_accuracy: 0.8639 - val_loss: 0.3863\n",
      "Epoch 2/20\n",
      "\u001b[1m30/30\u001b[0m \u001b[32m━━━━━━━━━━━━━━━━━━━━\u001b[0m\u001b[37m\u001b[0m \u001b[1m0s\u001b[0m 13ms/step - accuracy: 0.8939 - loss: 0.3234 - val_accuracy: 0.8826 - val_loss: 0.3068\n",
      "Epoch 3/20\n",
      "\u001b[1m30/30\u001b[0m \u001b[32m━━━━━━━━━━━━━━━━━━━━\u001b[0m\u001b[37m\u001b[0m \u001b[1m0s\u001b[0m 11ms/step - accuracy: 0.9297 - loss: 0.2293 - val_accuracy: 0.8880 - val_loss: 0.2866\n",
      "Epoch 4/20\n",
      "\u001b[1m30/30\u001b[0m \u001b[32m━━━━━━━━━━━━━━━━━━━━\u001b[0m\u001b[37m\u001b[0m \u001b[1m0s\u001b[0m 11ms/step - accuracy: 0.9410 - loss: 0.1836 - val_accuracy: 0.8858 - val_loss: 0.2760\n",
      "Epoch 5/20\n",
      "\u001b[1m30/30\u001b[0m \u001b[32m━━━━━━━━━━━━━━━━━━━━\u001b[0m\u001b[37m\u001b[0m \u001b[1m0s\u001b[0m 12ms/step - accuracy: 0.9500 - loss: 0.1579 - val_accuracy: 0.8849 - val_loss: 0.2895\n",
      "Epoch 6/20\n",
      "\u001b[1m30/30\u001b[0m \u001b[32m━━━━━━━━━━━━━━━━━━━━\u001b[0m\u001b[37m\u001b[0m \u001b[1m0s\u001b[0m 11ms/step - accuracy: 0.9608 - loss: 0.1306 - val_accuracy: 0.8830 - val_loss: 0.2963\n",
      "Epoch 7/20\n",
      "\u001b[1m30/30\u001b[0m \u001b[32m━━━━━━━━━━━━━━━━━━━━\u001b[0m\u001b[37m\u001b[0m \u001b[1m0s\u001b[0m 10ms/step - accuracy: 0.9691 - loss: 0.1096 - val_accuracy: 0.8571 - val_loss: 0.3780\n",
      "Epoch 8/20\n",
      "\u001b[1m30/30\u001b[0m \u001b[32m━━━━━━━━━━━━━━━━━━━━\u001b[0m\u001b[37m\u001b[0m \u001b[1m0s\u001b[0m 11ms/step - accuracy: 0.9713 - loss: 0.0995 - val_accuracy: 0.8803 - val_loss: 0.3190\n",
      "Epoch 9/20\n",
      "\u001b[1m30/30\u001b[0m \u001b[32m━━━━━━━━━━━━━━━━━━━━\u001b[0m\u001b[37m\u001b[0m \u001b[1m0s\u001b[0m 11ms/step - accuracy: 0.9797 - loss: 0.0810 - val_accuracy: 0.8795 - val_loss: 0.3498\n",
      "Epoch 10/20\n",
      "\u001b[1m30/30\u001b[0m \u001b[32m━━━━━━━━━━━━━━━━━━━━\u001b[0m\u001b[37m\u001b[0m \u001b[1m0s\u001b[0m 10ms/step - accuracy: 0.9836 - loss: 0.0693 - val_accuracy: 0.8790 - val_loss: 0.3521\n",
      "Epoch 11/20\n",
      "\u001b[1m30/30\u001b[0m \u001b[32m━━━━━━━━━━━━━━━━━━━━\u001b[0m\u001b[37m\u001b[0m \u001b[1m0s\u001b[0m 11ms/step - accuracy: 0.9870 - loss: 0.0573 - val_accuracy: 0.8784 - val_loss: 0.3679\n",
      "Epoch 12/20\n",
      "\u001b[1m30/30\u001b[0m \u001b[32m━━━━━━━━━━━━━━━━━━━━\u001b[0m\u001b[37m\u001b[0m \u001b[1m0s\u001b[0m 11ms/step - accuracy: 0.9878 - loss: 0.0524 - val_accuracy: 0.8760 - val_loss: 0.3891\n",
      "Epoch 13/20\n",
      "\u001b[1m30/30\u001b[0m \u001b[32m━━━━━━━━━━━━━━━━━━━━\u001b[0m\u001b[37m\u001b[0m \u001b[1m0s\u001b[0m 11ms/step - accuracy: 0.9934 - loss: 0.0384 - val_accuracy: 0.8774 - val_loss: 0.4100\n",
      "Epoch 14/20\n",
      "\u001b[1m30/30\u001b[0m \u001b[32m━━━━━━━━━━━━━━━━━━━━\u001b[0m\u001b[37m\u001b[0m \u001b[1m0s\u001b[0m 11ms/step - accuracy: 0.9948 - loss: 0.0307 - val_accuracy: 0.8680 - val_loss: 0.4494\n",
      "Epoch 15/20\n",
      "\u001b[1m30/30\u001b[0m \u001b[32m━━━━━━━━━━━━━━━━━━━━\u001b[0m\u001b[37m\u001b[0m \u001b[1m0s\u001b[0m 11ms/step - accuracy: 0.9965 - loss: 0.0269 - val_accuracy: 0.8707 - val_loss: 0.4624\n",
      "Epoch 16/20\n",
      "\u001b[1m30/30\u001b[0m \u001b[32m━━━━━━━━━━━━━━━━━━━━\u001b[0m\u001b[37m\u001b[0m \u001b[1m0s\u001b[0m 11ms/step - accuracy: 0.9940 - loss: 0.0287 - val_accuracy: 0.8717 - val_loss: 0.4749\n",
      "Epoch 17/20\n",
      "\u001b[1m30/30\u001b[0m \u001b[32m━━━━━━━━━━━━━━━━━━━━\u001b[0m\u001b[37m\u001b[0m \u001b[1m0s\u001b[0m 11ms/step - accuracy: 0.9977 - loss: 0.0207 - val_accuracy: 0.8704 - val_loss: 0.5101\n",
      "Epoch 18/20\n",
      "\u001b[1m30/30\u001b[0m \u001b[32m━━━━━━━━━━━━━━━━━━━━\u001b[0m\u001b[37m\u001b[0m \u001b[1m0s\u001b[0m 11ms/step - accuracy: 0.9988 - loss: 0.0144 - val_accuracy: 0.8719 - val_loss: 0.5255\n",
      "Epoch 19/20\n",
      "\u001b[1m30/30\u001b[0m \u001b[32m━━━━━━━━━━━━━━━━━━━━\u001b[0m\u001b[37m\u001b[0m \u001b[1m0s\u001b[0m 11ms/step - accuracy: 0.9984 - loss: 0.0143 - val_accuracy: 0.8726 - val_loss: 0.5439\n",
      "Epoch 20/20\n",
      "\u001b[1m30/30\u001b[0m \u001b[32m━━━━━━━━━━━━━━━━━━━━\u001b[0m\u001b[37m\u001b[0m \u001b[1m0s\u001b[0m 11ms/step - accuracy: 0.9988 - loss: 0.0119 - val_accuracy: 0.8685 - val_loss: 0.5703\n"
     ]
    }
   ],
   "source": [
    "history = model.fit(\n",
    "    partial_x_train,\n",
    "    partial_y_train,\n",
    "    epochs=20,\n",
    "    batch_size=512,\n",
    "    validation_data=(val_x, val_y)\n",
    ")"
   ]
  },
  {
   "cell_type": "code",
   "execution_count": 66,
   "id": "c51a0757-67b3-45e3-bcd2-c799e5a26a7a",
   "metadata": {},
   "outputs": [
    {
     "data": {
      "text/plain": [
       "{'accuracy': [0.7818666696548462,\n",
       "  0.8938666582107544,\n",
       "  0.9232000112533569,\n",
       "  0.9384666681289673,\n",
       "  0.9489333629608154,\n",
       "  0.9577333331108093,\n",
       "  0.9664000272750854,\n",
       "  0.9710666537284851,\n",
       "  0.9771999716758728,\n",
       "  0.9817333221435547,\n",
       "  0.9853333234786987,\n",
       "  0.9865999817848206,\n",
       "  0.9905333518981934,\n",
       "  0.9929999709129333,\n",
       "  0.996066689491272,\n",
       "  0.9954000115394592,\n",
       "  0.9968000054359436,\n",
       "  0.9983333349227905,\n",
       "  0.9977999925613403,\n",
       "  0.9977999925613403],\n",
       " 'loss': [0.5153060555458069,\n",
       "  0.3105517029762268,\n",
       "  0.23304584622383118,\n",
       "  0.1869625598192215,\n",
       "  0.15688136219978333,\n",
       "  0.1319098174571991,\n",
       "  0.11309459060430527,\n",
       "  0.09940147399902344,\n",
       "  0.08358369767665863,\n",
       "  0.07073824852705002,\n",
       "  0.060488343238830566,\n",
       "  0.05502994358539581,\n",
       "  0.04415077716112137,\n",
       "  0.034937914460897446,\n",
       "  0.02812531590461731,\n",
       "  0.026567935943603516,\n",
       "  0.022537920624017715,\n",
       "  0.015933820977807045,\n",
       "  0.015739494934678078,\n",
       "  0.014746553264558315],\n",
       " 'val_accuracy': [0.8639000058174133,\n",
       "  0.8826000094413757,\n",
       "  0.8880000114440918,\n",
       "  0.8858000040054321,\n",
       "  0.8848999738693237,\n",
       "  0.8830000162124634,\n",
       "  0.8571000099182129,\n",
       "  0.880299985408783,\n",
       "  0.8794999718666077,\n",
       "  0.8790000081062317,\n",
       "  0.8784000277519226,\n",
       "  0.8759999871253967,\n",
       "  0.8773999810218811,\n",
       "  0.8679999709129333,\n",
       "  0.8707000017166138,\n",
       "  0.8716999888420105,\n",
       "  0.8704000115394592,\n",
       "  0.8719000220298767,\n",
       "  0.8726000189781189,\n",
       "  0.8684999942779541],\n",
       " 'val_loss': [0.38628318905830383,\n",
       "  0.306792289018631,\n",
       "  0.28655028343200684,\n",
       "  0.2759692966938019,\n",
       "  0.28951844573020935,\n",
       "  0.29627516865730286,\n",
       "  0.3780227303504944,\n",
       "  0.3190227746963501,\n",
       "  0.3497692942619324,\n",
       "  0.35207825899124146,\n",
       "  0.3678913116455078,\n",
       "  0.3891052305698395,\n",
       "  0.4100185036659241,\n",
       "  0.44941747188568115,\n",
       "  0.46243324875831604,\n",
       "  0.47487330436706543,\n",
       "  0.5101443529129028,\n",
       "  0.5255358815193176,\n",
       "  0.5439205169677734,\n",
       "  0.5703404545783997]}"
      ]
     },
     "execution_count": 66,
     "metadata": {},
     "output_type": "execute_result"
    }
   ],
   "source": [
    "history.history"
   ]
  },
  {
   "cell_type": "code",
   "execution_count": 67,
   "id": "f02956fb-83ed-4434-add5-4f26fd08ba53",
   "metadata": {},
   "outputs": [
    {
     "data": {
      "image/png": "[encoded data removed]",
      "text/plain": [
       "<Figure size 640x480 with 1 Axes>"
      ]
     },
     "metadata": {},
     "output_type": "display_data"
    }
   ],
   "source": [
    "import matplotlib.pyplot as plt\n",
    "history = history.history\n",
    "\n",
    "loss = history[\"loss\"]\n",
    "validation_loss = history[\"val_loss\"]\n",
    "epochs = range(1, len(loss)+1)\n",
    "\n",
    "plt.plot(epochs, loss, \"r\", label=\"Training Loss\") #bo blue dot\n",
    "plt.plot(epochs, validation_loss, \"b\", label=\"Validation Loss\") #b for solid blue line\n",
    "plt.title(\"Training and validation loss\")\n",
    "plt.xlabel(\"Epochs\")\n",
    "plt.ylabel(\"Loss\")\n",
    "plt.legend()\n",
    "plt.show()"
   ]
  },
  {
   "cell_type": "code",
   "execution_count": 68,
   "id": "bf295140-5c01-4a2d-8fe4-177d452090ee",
   "metadata": {},
   "outputs": [
    {
     "data": {
      "image/png": "[encoded data removed]",
      "text/plain": [
       "<Figure size 640x480 with 1 Axes>"
      ]
     },
     "metadata": {},
     "output_type": "display_data"
    }
   ],
   "source": [
    "accuracy = history[\"accuracy\"]\n",
    "validation_accuracy = history[\"val_accuracy\"]\n",
    "\n",
    "plt.plot(epochs, accuracy, \"r\", label=\"Training Accuracy\") #bo blue dot\n",
    "plt.plot(epochs, validation_accuracy, \"b\", label=\"Validation Accuracy\") #b for solid blue line\n",
    "plt.title(\"Training and validation accuracy\")\n",
    "plt.xlabel(\"Epochs\")\n",
    "plt.ylabel(\"Accuracy\")\n",
    "plt.legend()\n",
    "plt.show()"
   ]
  },
  {
   "cell_type": "code",
   "execution_count": 74,
   "id": "2f46cbce-fa1a-4946-81ff-685733da11d5",
   "metadata": {},
   "outputs": [
    {
     "name": "stdout",
     "output_type": "stream",
     "text": [
      "Epoch 1/4\n",
      "\u001b[1m49/49\u001b[0m \u001b[32m━━━━━━━━━━━━━━━━━━━━\u001b[0m\u001b[37m\u001b[0m \u001b[1m1s\u001b[0m 7ms/step - accuracy: 0.7459 - loss: 0.5480\n",
      "Epoch 2/4\n",
      "\u001b[1m49/49\u001b[0m \u001b[32m━━━━━━━━━━━━━━━━━━━━\u001b[0m\u001b[37m\u001b[0m \u001b[1m0s\u001b[0m 7ms/step - accuracy: 0.9001 - loss: 0.2823\n",
      "Epoch 3/4\n",
      "\u001b[1m49/49\u001b[0m \u001b[32m━━━━━━━━━━━━━━━━━━━━\u001b[0m\u001b[37m\u001b[0m \u001b[1m0s\u001b[0m 7ms/step - accuracy: 0.9289 - loss: 0.2087\n",
      "Epoch 4/4\n",
      "\u001b[1m49/49\u001b[0m \u001b[32m━━━━━━━━━━━━━━━━━━━━\u001b[0m\u001b[37m\u001b[0m \u001b[1m0s\u001b[0m 7ms/step - accuracy: 0.9383 - loss: 0.1776\n",
      "\u001b[1m782/782\u001b[0m \u001b[32m━━━━━━━━━━━━━━━━━━━━\u001b[0m\u001b[37m\u001b[0m \u001b[1m1s\u001b[0m 1ms/step - accuracy: 0.8838 - loss: 0.2882\n"
     ]
    },
    {
     "data": {
      "text/plain": [
       "[0.28673163056373596, 0.8857200145721436]"
      ]
     },
     "execution_count": 74,
     "metadata": {},
     "output_type": "execute_result"
    }
   ],
   "source": [
    "\n",
    "\n",
    "model1 = keras.Sequential([\n",
    "    layers.Dense(16, activation=\"relu\"),\n",
    "    layers.Dense(16, activation=\"relu\"),\n",
    "    layers.Dense(1, activation=\"sigmoid\")\n",
    "])\n",
    "model1.compile(\n",
    "    optimizer=\"rmsprop\",\n",
    "    loss=\"binary_crossentropy\",\n",
    "    metrics=[\"accuracy\"]\n",
    ")\n",
    "\n",
    "model1.fit(\n",
    "    x_train,\n",
    "    y_train,\n",
    "    epochs=4,\n",
    "    batch_size=512\n",
    ")\n",
    "results = model1.evaluate(x_test, y_test)\n",
    "results #0 is test loss and 1 is accuracy"
   ]
  },
  {
   "cell_type": "code",
   "execution_count": 75,
   "id": "4c88d510-cfac-45d3-84e7-684756dc6c75",
   "metadata": {},
   "outputs": [
    {
     "name": "stdout",
     "output_type": "stream",
     "text": [
      "\u001b[1m782/782\u001b[0m \u001b[32m━━━━━━━━━━━━━━━━━━━━\u001b[0m\u001b[37m\u001b[0m \u001b[1m1s\u001b[0m 969us/step\n"
     ]
    },
    {
     "data": {
      "text/plain": [
       "array([[0.20393997],\n",
       "       [0.9993556 ],\n",
       "       [0.8316528 ],\n",
       "       ...,\n",
       "       [0.092937  ],\n",
       "       [0.06952261],\n",
       "       [0.5059066 ]], dtype=float32)"
      ]
     },
     "execution_count": 75,
     "metadata": {},
     "output_type": "execute_result"
    }
   ],
   "source": [
    "model1.predict(x_test)"
   ]
  },
  {
   "cell_type": "code",
   "execution_count": null,
   "id": "7b78b9c8-084c-4216-aceb-8b874cd3a510",
   "metadata": {},
   "outputs": [],
   "source": []
  }
 ],
 "metadata": {
  "kernelspec": {
   "display_name": "Python 3 (ipykernel)",
   "language": "python",
   "name": "python3"
  },
  "language_info": {
   "codemirror_mode": {
    "name": "ipython",
    "version": 3
   },
   "file_extension": ".py",
   "mimetype": "text/x-python",
   "name": "python",
   "nbconvert_exporter": "python",
   "pygments_lexer": "ipython3",
   "version": "3.12.5"
  }
 },
 "nbformat": 4,
 "nbformat_minor": 5
}
